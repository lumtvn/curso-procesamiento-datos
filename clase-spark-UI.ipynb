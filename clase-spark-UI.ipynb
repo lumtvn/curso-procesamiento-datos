{
 "cells": [
  {
   "cell_type": "markdown",
   "metadata": {},
   "source": [
    "Before going into Spark UI first, learn about these two concepts.\n",
    "\n",
    "Transformations\n",
    "Action\n",
    "Let me give a small brief on those two, Your application code is the set of instructions that instructs the driver to do a Spark Job and lets the driver decide how to achieve it with the help of executors.\n",
    "\n",
    "Instructions to the driver are called Transformations and action will trigger the execution.\n",
    "\n",
    "I had written a small application that does transformation and action."
   ]
  },
  {
   "cell_type": "code",
   "execution_count": null,
   "metadata": {},
   "outputs": [],
   "source": []
  }
 ],
 "metadata": {
  "kernelspec": {
   "display_name": "base",
   "language": "python",
   "name": "python3"
  },
  "language_info": {
   "name": "python",
   "version": "3.11.5"
  }
 },
 "nbformat": 4,
 "nbformat_minor": 2
}
