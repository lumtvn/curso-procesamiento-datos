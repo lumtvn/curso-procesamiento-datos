{
 "cells": [
  {
   "cell_type": "markdown",
   "metadata": {},
   "source": [
    "Para conectarnos a una base de datos local, vamos a usar pandas junto con SQLAlchemy"
   ]
  },
  {
   "cell_type": "code",
   "execution_count": 1,
   "metadata": {},
   "outputs": [],
   "source": [
    "import pandas as pd\n",
    "from sqlalchemy import create_engine, text\n",
    "from sqlalchemy.orm import sessionmaker"
   ]
  },
  {
   "cell_type": "markdown",
   "metadata": {},
   "source": [
    "definimos una funcion que nos permite armar una sesion de conexion con nuestra base de datos. Necesitamos para esto los datos para conectarnos. "
   ]
  },
  {
   "cell_type": "code",
   "execution_count": 10,
   "metadata": {},
   "outputs": [],
   "source": [
    "def get_session():\n",
    "    dialect = 'postgresql' # este parametro puede cambiar dependiendo del motor de base de datos que se este utilizando\n",
    "    user = 'admin'\n",
    "    password = 'admin'\n",
    "    host = 'localhost'\n",
    "    port = '5432'\n",
    "    database = 'default'\n",
    "    url = f\"{dialect}://{user}:{password}@{host}:{port}/{database}\" # ?sslmode=require\n",
    "\n",
    "    # Establishing a connection to the database\n",
    "    engine = create_engine(url)\n",
    "    Session = sessionmaker(bind=engine)\n",
    "    session = Session()\n",
    "\n",
    "    return session, engine"
   ]
  },
  {
   "cell_type": "markdown",
   "metadata": {},
   "source": [
    "definimos otra funcion que lo unico que hara sera cerrar la sesion abierta"
   ]
  },
  {
   "cell_type": "code",
   "execution_count": 3,
   "metadata": {},
   "outputs": [],
   "source": [
    "def close_session(session):\n",
    "    session.close()"
   ]
  },
  {
   "cell_type": "markdown",
   "metadata": {},
   "source": [
    "Finalmente creamos una funcion mas para correr queries en nuestra db independizandonos de los metodos y parametros particulares de SQLAlchemy"
   ]
  },
  {
   "cell_type": "code",
   "execution_count": 18,
   "metadata": {},
   "outputs": [],
   "source": [
    "def run_query(query, engine):\n",
    "    with engine.connect() as connection:\n",
    "        result = connection.execute(query)\n",
    "    return result"
   ]
  },
  {
   "cell_type": "markdown",
   "metadata": {},
   "source": [
    "Vamos a construir algunos queries y consultar a nuestra base de datos para explorarla. Si acabamos de crear nuestra base de datos, deberia estar vacia, sin tablas de usuario y con un unico usuario 'admin'"
   ]
  },
  {
   "cell_type": "code",
   "execution_count": 26,
   "metadata": {},
   "outputs": [],
   "source": [
    "# vamos a crear la sesion una vez para evitar crearla cada vez que se necesite hacer una consulta\n",
    "session, engine = get_session()"
   ]
  },
  {
   "cell_type": "code",
   "execution_count": 27,
   "metadata": {},
   "outputs": [
    {
     "name": "stdout",
     "output_type": "stream",
     "text": [
      "  usename  usesuper  usecreatedb\n",
      "0   admin      True         True\n"
     ]
    }
   ],
   "source": [
    "query = 'SELECT usename, usesuper, usecreatedb FROM pg_user;'\n",
    "result = run_query(query, engine)\n",
    "\n",
    "# vamos a convertir el resultado de la consulta en un DataFrame\n",
    "df = pd.DataFrame(result.fetchall(), columns=result.keys())\n",
    "print(df)\n"
   ]
  },
  {
   "cell_type": "markdown",
   "metadata": {},
   "source": [
    "para evitar repetir mucho codigo, vamos a encapsular la accion anterior y construir una funcion que retorne un dataframe a partir de un query y el engine iniciado"
   ]
  },
  {
   "cell_type": "code",
   "execution_count": 28,
   "metadata": {},
   "outputs": [],
   "source": [
    "def df_from_query(query):\n",
    "    result = run_query(query, engine)\n",
    "    return pd.DataFrame(result.fetchall(), columns=result.keys())"
   ]
  },
  {
   "cell_type": "markdown",
   "metadata": {},
   "source": [
    "Probemos algunos queries mas para explorar la base de datos creada"
   ]
  },
  {
   "cell_type": "code",
   "execution_count": 29,
   "metadata": {},
   "outputs": [
    {
     "data": {
      "text/html": [
       "<div>\n",
       "<style scoped>\n",
       "    .dataframe tbody tr th:only-of-type {\n",
       "        vertical-align: middle;\n",
       "    }\n",
       "\n",
       "    .dataframe tbody tr th {\n",
       "        vertical-align: top;\n",
       "    }\n",
       "\n",
       "    .dataframe thead th {\n",
       "        text-align: right;\n",
       "    }\n",
       "</style>\n",
       "<table border=\"1\" class=\"dataframe\">\n",
       "  <thead>\n",
       "    <tr style=\"text-align: right;\">\n",
       "      <th></th>\n",
       "      <th>total_schemas</th>\n",
       "    </tr>\n",
       "  </thead>\n",
       "  <tbody>\n",
       "    <tr>\n",
       "      <th>0</th>\n",
       "      <td>4</td>\n",
       "    </tr>\n",
       "  </tbody>\n",
       "</table>\n",
       "</div>"
      ],
      "text/plain": [
       "   total_schemas\n",
       "0              4"
      ]
     },
     "execution_count": 29,
     "metadata": {},
     "output_type": "execute_result"
    }
   ],
   "source": [
    "# cantidad de esquemas en nuestra bd\n",
    "df_from_query('SELECT COUNT(*) AS total_schemas FROM information_schema.schemata;')\n"
   ]
  },
  {
   "cell_type": "code",
   "execution_count": 30,
   "metadata": {},
   "outputs": [
    {
     "data": {
      "text/html": [
       "<div>\n",
       "<style scoped>\n",
       "    .dataframe tbody tr th:only-of-type {\n",
       "        vertical-align: middle;\n",
       "    }\n",
       "\n",
       "    .dataframe tbody tr th {\n",
       "        vertical-align: top;\n",
       "    }\n",
       "\n",
       "    .dataframe thead th {\n",
       "        text-align: right;\n",
       "    }\n",
       "</style>\n",
       "<table border=\"1\" class=\"dataframe\">\n",
       "  <thead>\n",
       "    <tr style=\"text-align: right;\">\n",
       "      <th></th>\n",
       "      <th>schema_name</th>\n",
       "    </tr>\n",
       "  </thead>\n",
       "  <tbody>\n",
       "    <tr>\n",
       "      <th>0</th>\n",
       "      <td>information_schema</td>\n",
       "    </tr>\n",
       "    <tr>\n",
       "      <th>1</th>\n",
       "      <td>pg_catalog</td>\n",
       "    </tr>\n",
       "    <tr>\n",
       "      <th>2</th>\n",
       "      <td>pg_toast</td>\n",
       "    </tr>\n",
       "    <tr>\n",
       "      <th>3</th>\n",
       "      <td>public</td>\n",
       "    </tr>\n",
       "  </tbody>\n",
       "</table>\n",
       "</div>"
      ],
      "text/plain": [
       "          schema_name\n",
       "0  information_schema\n",
       "1          pg_catalog\n",
       "2            pg_toast\n",
       "3              public"
      ]
     },
     "execution_count": 30,
     "metadata": {},
     "output_type": "execute_result"
    }
   ],
   "source": [
    "# cuales son los esquemas que tenemos?\n",
    "df_from_query('SELECT schema_name \\\n",
    "FROM information_schema.schemata \\\n",
    "ORDER BY schema_name;')"
   ]
  },
  {
   "cell_type": "code",
   "execution_count": 32,
   "metadata": {},
   "outputs": [
    {
     "name": "stdout",
     "output_type": "stream",
     "text": [
      "            schemaname                tablename tableowner     tipo\n",
      "0   information_schema             sql_features      admin  Sistema\n",
      "1   information_schema  sql_implementation_info      admin  Sistema\n",
      "2   information_schema                sql_parts      admin  Sistema\n",
      "3   information_schema               sql_sizing      admin  Sistema\n",
      "4           pg_catalog             pg_aggregate      admin  Sistema\n",
      "..                 ...                      ...        ...      ...\n",
      "63          pg_catalog               pg_ts_dict      admin  Sistema\n",
      "64          pg_catalog             pg_ts_parser      admin  Sistema\n",
      "65          pg_catalog           pg_ts_template      admin  Sistema\n",
      "66          pg_catalog                  pg_type      admin  Sistema\n",
      "67          pg_catalog          pg_user_mapping      admin  Sistema\n",
      "\n",
      "[68 rows x 4 columns]\n"
     ]
    }
   ],
   "source": [
    "# listar tablas de sistema y de usuario.\n",
    "df = df_from_query(\"SELECT  \\\n",
    "                    schemaname, \\\n",
    "                    tablename, \\\n",
    "                    tableowner, \\\n",
    "                    CASE  \\\n",
    "                        WHEN schemaname IN ('pg_catalog', 'information_schema') THEN 'Sistema' \\\n",
    "                        ELSE 'Usuario' \\\n",
    "                    END AS tipo \\\n",
    "                FROM pg_tables \\\n",
    "                ORDER BY tipo, schemaname, tablename;\")\n",
    "df"
   ]
  },
  {
   "cell_type": "code",
   "execution_count": 33,
   "metadata": {},
   "outputs": [
    {
     "data": {
      "text/plain": [
       "tipo\n",
       "Sistema    68\n",
       "Name: count, dtype: int64"
      ]
     },
     "execution_count": 33,
     "metadata": {},
     "output_type": "execute_result"
    }
   ],
   "source": [
    "# podemos con pandas saber cuantas tablas son de sistema y cuantas de usuario\n",
    "df['tipo'].value_counts()"
   ]
  },
  {
   "cell_type": "markdown",
   "metadata": {},
   "source": [
    "Si todavia no creamos ninguna tabla, es normal que solo existan tablas de sistema"
   ]
  },
  {
   "cell_type": "markdown",
   "metadata": {},
   "source": [
    "Veamos las 10 tablas mas pesadas"
   ]
  },
  {
   "cell_type": "code",
   "execution_count": 34,
   "metadata": {},
   "outputs": [
    {
     "data": {
      "text/html": [
       "<div>\n",
       "<style scoped>\n",
       "    .dataframe tbody tr th:only-of-type {\n",
       "        vertical-align: middle;\n",
       "    }\n",
       "\n",
       "    .dataframe tbody tr th {\n",
       "        vertical-align: top;\n",
       "    }\n",
       "\n",
       "    .dataframe thead th {\n",
       "        text-align: right;\n",
       "    }\n",
       "</style>\n",
       "<table border=\"1\" class=\"dataframe\">\n",
       "  <thead>\n",
       "    <tr style=\"text-align: right;\">\n",
       "      <th></th>\n",
       "      <th>tabla_completa</th>\n",
       "      <th>tamaño</th>\n",
       "    </tr>\n",
       "  </thead>\n",
       "  <tbody>\n",
       "    <tr>\n",
       "      <th>0</th>\n",
       "      <td>pg_catalog.pg_proc</td>\n",
       "      <td>1216 kB</td>\n",
       "    </tr>\n",
       "    <tr>\n",
       "      <th>1</th>\n",
       "      <td>pg_catalog.pg_rewrite</td>\n",
       "      <td>728 kB</td>\n",
       "    </tr>\n",
       "    <tr>\n",
       "      <th>2</th>\n",
       "      <td>pg_catalog.pg_attribute</td>\n",
       "      <td>704 kB</td>\n",
       "    </tr>\n",
       "    <tr>\n",
       "      <th>3</th>\n",
       "      <td>pg_catalog.pg_description</td>\n",
       "      <td>616 kB</td>\n",
       "    </tr>\n",
       "    <tr>\n",
       "      <th>4</th>\n",
       "      <td>pg_catalog.pg_statistic</td>\n",
       "      <td>288 kB</td>\n",
       "    </tr>\n",
       "    <tr>\n",
       "      <th>5</th>\n",
       "      <td>pg_catalog.pg_depend</td>\n",
       "      <td>272 kB</td>\n",
       "    </tr>\n",
       "    <tr>\n",
       "      <th>6</th>\n",
       "      <td>pg_catalog.pg_collation</td>\n",
       "      <td>240 kB</td>\n",
       "    </tr>\n",
       "    <tr>\n",
       "      <th>7</th>\n",
       "      <td>pg_catalog.pg_operator</td>\n",
       "      <td>232 kB</td>\n",
       "    </tr>\n",
       "    <tr>\n",
       "      <th>8</th>\n",
       "      <td>pg_catalog.pg_type</td>\n",
       "      <td>232 kB</td>\n",
       "    </tr>\n",
       "    <tr>\n",
       "      <th>9</th>\n",
       "      <td>pg_catalog.pg_class</td>\n",
       "      <td>232 kB</td>\n",
       "    </tr>\n",
       "  </tbody>\n",
       "</table>\n",
       "</div>"
      ],
      "text/plain": [
       "              tabla_completa   tamaño\n",
       "0         pg_catalog.pg_proc  1216 kB\n",
       "1      pg_catalog.pg_rewrite   728 kB\n",
       "2    pg_catalog.pg_attribute   704 kB\n",
       "3  pg_catalog.pg_description   616 kB\n",
       "4    pg_catalog.pg_statistic   288 kB\n",
       "5       pg_catalog.pg_depend   272 kB\n",
       "6    pg_catalog.pg_collation   240 kB\n",
       "7     pg_catalog.pg_operator   232 kB\n",
       "8         pg_catalog.pg_type   232 kB\n",
       "9        pg_catalog.pg_class   232 kB"
      ]
     },
     "execution_count": 34,
     "metadata": {},
     "output_type": "execute_result"
    }
   ],
   "source": [
    "df_from_query(\"SELECT  \\\n",
    "                    schemaname || '.' || tablename AS tabla_completa, \\\n",
    "                    pg_size_pretty(pg_total_relation_size(schemaname || '.' || tablename)) AS tamaño \\\n",
    "                FROM pg_tables \\\n",
    "                ORDER BY pg_total_relation_size(schemaname || '.' || tablename) DESC \\\n",
    "                LIMIT 10;\")"
   ]
  },
  {
   "cell_type": "markdown",
   "metadata": {},
   "source": [
    "Este query puede llegar a ser util para monitoreo"
   ]
  },
  {
   "cell_type": "code",
   "execution_count": null,
   "metadata": {},
   "outputs": [],
   "source": [
    "close_session(session) # cerramos la sesion"
   ]
  },
  {
   "cell_type": "markdown",
   "metadata": {},
   "source": [
    "## Ejercicio propuesto\n",
    "\n",
    "Cargar en la base de datos el dataset de brazil-weather. Cargar las tres tablas, la de informacion de estaciones o un sample, si no tienen suficiente espacio, los codigos de las estaciones y los codigos de viento. \n",
    "\n",
    "ayuda: Hay mas de una manera de hacer esto. Pueden convertir el csv e insertarlo con SQL, o bien pueden usar pandas y SQLAlchemy para transformarlo desde un dataframe. "
   ]
  },
  {
   "cell_type": "code",
   "execution_count": null,
   "metadata": {},
   "outputs": [],
   "source": []
  }
 ],
 "metadata": {
  "kernelspec": {
   "display_name": "sara",
   "language": "python",
   "name": "python3"
  },
  "language_info": {
   "codemirror_mode": {
    "name": "ipython",
    "version": 3
   },
   "file_extension": ".py",
   "mimetype": "text/x-python",
   "name": "python",
   "nbconvert_exporter": "python",
   "pygments_lexer": "ipython3",
   "version": "3.10.14"
  }
 },
 "nbformat": 4,
 "nbformat_minor": 2
}
