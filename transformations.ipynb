{
 "cells": [
  {
   "cell_type": "code",
   "execution_count": 1,
   "id": "d035fe78-5487-4f00-b508-7856977362bb",
   "metadata": {
    "tags": []
   },
   "outputs": [
    {
     "data": {
      "text/plain": [
       "'D:\\\\apps\\\\spark-3.5.0-bin-hadoop3'"
      ]
     },
     "execution_count": 1,
     "metadata": {},
     "output_type": "execute_result"
    }
   ],
   "source": [
    "import findspark\n",
    "findspark.init()\n",
    "findspark.find()"
   ]
  },
  {
   "cell_type": "code",
   "execution_count": 2,
   "id": "12773b74-4d33-4c22-976d-11a19a1fe4b1",
   "metadata": {
    "tags": []
   },
   "outputs": [],
   "source": [
    "from pyspark.sql import SparkSession\n",
    "\n",
    "spark = SparkSession.builder.appName(\"Perla Negra\") \\\n",
    "                            .master(\"local[*]\") \\\n",
    "                            .config(\"spark.ui.port\", \"4040\") \\\n",
    "                            .getOrCreate()"
   ]
  },
  {
   "cell_type": "code",
   "execution_count": 7,
   "id": "b11d95aa-3867-467c-8891-07bf4800e65c",
   "metadata": {
    "tags": []
   },
   "outputs": [],
   "source": [
    "rdd = spark.sparkContext.textFile(\"test.txt\")"
   ]
  },
  {
   "cell_type": "markdown",
   "id": "84f2e56a-7ca8-45cd-bdcd-cf04c99d7d88",
   "metadata": {},
   "source": [
    "Leer un archivo de texto con la funcion textFile devuelve una RDD donde cada elemento es una linea leida en el archivo. "
   ]
  },
  {
   "cell_type": "code",
   "execution_count": 13,
   "id": "856fb6df-81b6-45f4-a1ca-a487273d0b19",
   "metadata": {
    "tags": []
   },
   "outputs": [
    {
     "data": {
      "text/plain": [
       "['Project Gutenberg’s',\n",
       " 'Alice’s Adventures in Wonderland',\n",
       " 'by Lewis Carroll',\n",
       " 'This eBook is for the use',\n",
       " 'of anyone anywhere']"
      ]
     },
     "execution_count": 13,
     "metadata": {},
     "output_type": "execute_result"
    }
   ],
   "source": [
    "rdd.take(5) # Pregunta 1: que pasa si usamos collect aqui en vez de take? que riesgo corremos si el dataset es muy grande?"
   ]
  },
  {
   "cell_type": "markdown",
   "id": "f46feee1-3939-49ea-8646-c19d0821f657",
   "metadata": {},
   "source": [
    "Si quisieramos, por ejemplo, tomar cada palabra de un archivo como un elemento distinto tendriamos que aplicarle la funcion split a cada linea y desagregar eso dentro del RDD para generar una sola gran coleccion de palabras. Para esto podemos usar flatMap() que nos permite pasar una funcion que devuelve un array en lugar de un unico elemento. Ademas de mapear la funcion, flatMap se va a encargar de luego desagregar los arrays resultantes en un unico array que sera nuestra RDD transformada."
   ]
  },
  {
   "cell_type": "code",
   "execution_count": 15,
   "id": "9415c9da-a83b-4005-9416-93f0a2535a48",
   "metadata": {},
   "outputs": [],
   "source": [
    "rdd2 = rdd.flatMap(lambda x: x.split(\" \")) # Pregunta 2: Que pasa si usamos map() aqui en lugar de flatMap()? "
   ]
  },
  {
   "cell_type": "code",
   "execution_count": 16,
   "id": "8c1ed748-d7f4-4438-a7a6-84f719edf5a1",
   "metadata": {},
   "outputs": [
    {
     "data": {
      "text/plain": [
       "['Project',\n",
       " 'Gutenberg’s',\n",
       " 'Alice’s',\n",
       " 'Adventures',\n",
       " 'in',\n",
       " 'Wonderland',\n",
       " 'by',\n",
       " 'Lewis',\n",
       " 'Carroll',\n",
       " 'This']"
      ]
     },
     "execution_count": 16,
     "metadata": {},
     "output_type": "execute_result"
    }
   ],
   "source": [
    "rdd2.take(10)"
   ]
  },
  {
   "cell_type": "markdown",
   "id": "702b8827-4706-47bb-869f-c676b38350d5",
   "metadata": {},
   "source": [
    "Ahora si, podemos mapear una funcion a cada elemento de la RDD. En este caso, vamos a crear un contador de palabras"
   ]
  },
  {
   "cell_type": "code",
   "execution_count": 34,
   "id": "7a912339-03aa-46cc-ac96-979e5ef5957f",
   "metadata": {
    "tags": []
   },
   "outputs": [],
   "source": [
    "rdd3 = rdd2.map(lambda x: (x,1)) # que pasa si invertimos (x,1) a (1,x)?"
   ]
  },
  {
   "cell_type": "code",
   "execution_count": 35,
   "id": "418266d4-59fe-4b58-b8b4-13d5cc46f280",
   "metadata": {
    "tags": []
   },
   "outputs": [],
   "source": [
    "rdd4 = rdd3.reduceByKey(lambda a,b: a+b) # Pregunta 3:  reduceByKey es una transformacion? o una accion?"
   ]
  },
  {
   "cell_type": "code",
   "execution_count": 36,
   "id": "6071d0ad-81a3-443b-a1fd-b5ddf5d5529b",
   "metadata": {
    "tags": []
   },
   "outputs": [
    {
     "data": {
      "text/plain": [
       "[('Alice’s', 18), ('by', 18), ('Lewis', 18), ('Carroll', 18), ('eBook', 27)]"
      ]
     },
     "execution_count": 36,
     "metadata": {},
     "output_type": "execute_result"
    }
   ],
   "source": [
    "rdd4.take(5)"
   ]
  },
  {
   "cell_type": "markdown",
   "id": "09ce1be0-2c46-4b3b-a01e-71bc7ee563b8",
   "metadata": {},
   "source": [
    "reduceByKey aplica la funcion de mapeo sobre la RDD agrupada por clave. Se toma al primer elemento como la clave por la cual se va a agrupar. Por lo que lo que termina pasando es que la funcion acumuladora que se le pasa a reduceByKey se aplica sobre cada agrupacion de las palabras. Entonces cada grupo basicamente suma todos sus '1' dando el total de elementos por grupo. "
   ]
  },
  {
   "cell_type": "code",
   "execution_count": 42,
   "id": "2cbd5a3b-3b76-414c-a37d-3dbe0d78be8a",
   "metadata": {
    "tags": []
   },
   "outputs": [],
   "source": [
    "rdd5 = rdd4.map(lambda x: (x[1],x[0])).sortByKey() # devolvemos una version invertida de cada tupla para poder ordenar por clave. "
   ]
  },
  {
   "cell_type": "code",
   "execution_count": 44,
   "id": "cb1f6908-40bb-4b17-8743-c178a4668b83",
   "metadata": {
    "tags": []
   },
   "outputs": [],
   "source": [
    "rdd6 = rdd5.map(lambda x: (x[1],x[0])) # volvemos a invertir para recuperar el orden inicial"
   ]
  },
  {
   "cell_type": "code",
   "execution_count": 45,
   "id": "31fb4cd0-ddf6-452a-b31f-ceab0f771700",
   "metadata": {
    "tags": []
   },
   "outputs": [
    {
     "data": {
      "text/plain": [
       "[('Project', 9),\n",
       " ('Gutenberg’s', 9),\n",
       " ('Alice’s', 18),\n",
       " ('by', 18),\n",
       " ('Lewis', 18),\n",
       " ('Carroll', 18),\n",
       " ('Adventures', 18),\n",
       " ('in', 18),\n",
       " ('Wonderland', 18),\n",
       " ('eBook', 27),\n",
       " ('for', 27),\n",
       " ('use', 27),\n",
       " ('of', 27),\n",
       " ('anyone', 27),\n",
       " ('at', 27),\n",
       " ('no', 27),\n",
       " ('cost', 27),\n",
       " ('and', 27),\n",
       " ('with', 27),\n",
       " ('This', 27),\n",
       " ('is', 27),\n",
       " ('the', 27),\n",
       " ('anywhere', 27)]"
      ]
     },
     "execution_count": 45,
     "metadata": {},
     "output_type": "execute_result"
    }
   ],
   "source": [
    "rdd6.collect()"
   ]
  },
  {
   "cell_type": "code",
   "execution_count": 46,
   "id": "c52f3886-34b5-4ec7-8340-53dc8f5a9ff1",
   "metadata": {
    "tags": []
   },
   "outputs": [
    {
     "data": {
      "text/plain": [
       "[('Wonderland', 18), ('anyone', 27), ('and', 27), ('anywhere', 27)]"
      ]
     },
     "execution_count": 46,
     "metadata": {},
     "output_type": "execute_result"
    }
   ],
   "source": [
    "filteredRdd = rdd6.filter(lambda x: 'an' in x[0])\n",
    "filteredRdd.collect()"
   ]
  },
  {
   "cell_type": "markdown",
   "id": "81ca5323-86a2-4c71-a885-a80b22840bb5",
   "metadata": {},
   "source": [
    "## Respuestas a las preguntas:\n",
    "\n",
    "- Pregunta 1:\n",
    "- Pregunta 2:\n",
    "- Pregunta 3:"
   ]
  },
  {
   "cell_type": "code",
   "execution_count": null,
   "id": "f818563c-b002-4b45-8a55-989e57ad3067",
   "metadata": {},
   "outputs": [],
   "source": [
    "## Problema 1: escribir un filtro para la RDD que recupere las palabras con mas de 10 ocurrencias y mostrarlo\n",
    "\n",
    "# solucion:\n",
    "\n",
    "\n"
   ]
  }
 ],
 "metadata": {
  "kernelspec": {
   "display_name": "Python 3 (ipykernel)",
   "language": "python",
   "name": "python3"
  },
  "language_info": {
   "codemirror_mode": {
    "name": "ipython",
    "version": 3
   },
   "file_extension": ".py",
   "mimetype": "text/x-python",
   "name": "python",
   "nbconvert_exporter": "python",
   "pygments_lexer": "ipython3",
   "version": "3.11.5"
  }
 },
 "nbformat": 4,
 "nbformat_minor": 5
}
