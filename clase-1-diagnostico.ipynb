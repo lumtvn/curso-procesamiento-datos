{
 "cells": [
  {
   "cell_type": "code",
   "execution_count": null,
   "metadata": {},
   "outputs": [],
   "source": [
    "'''\n",
    "Ejercicio de auto-diagnostico \n",
    "\n",
    "Extraigan el csv del comprimido NY Housing Market.zip y creen un programa en Python que siga las instrucciones:\n",
    "\n",
    "1. importar el dataset con pandas \n",
    "\n",
    "2. Responder:\n",
    "\ta- Cuantas filas tiene el dataset? \n",
    "\tb- Que tipos de datos tienen las columnas?\n",
    "\tc- Cuales columnas son numericas y cuales son categoricas?\n",
    "\td- Si quisiera hacer un analisis de precio segun la localidad, que columnas eligiria para el analisis?\n",
    "\te- Cuantas casas son de Brooklyn? \n",
    "\tf- Modificar la columna “Type” y reemplazar los espacios “ “ por guiones “-” \n",
    "\n",
    "'''\n",
    " "
   ]
  },
  {
   "cell_type": "code",
   "execution_count": 2,
   "metadata": {},
   "outputs": [
    {
     "name": "stdout",
     "output_type": "stream",
     "text": [
      "<class 'pandas.core.frame.DataFrame'>\n",
      "RangeIndex: 4801 entries, 0 to 4800\n",
      "Data columns (total 17 columns):\n",
      " #   Column                       Non-Null Count  Dtype  \n",
      "---  ------                       --------------  -----  \n",
      " 0   BROKERTITLE                  4801 non-null   object \n",
      " 1   TYPE                         4801 non-null   object \n",
      " 2   PRICE                        4801 non-null   int64  \n",
      " 3   BEDS                         4801 non-null   int64  \n",
      " 4   BATH                         4801 non-null   float64\n",
      " 5   PROPERTYSQFT                 4801 non-null   float64\n",
      " 6   ADDRESS                      4801 non-null   object \n",
      " 7   STATE                        4801 non-null   object \n",
      " 8   MAIN_ADDRESS                 4801 non-null   object \n",
      " 9   ADMINISTRATIVE_AREA_LEVEL_2  4801 non-null   object \n",
      " 10  LOCALITY                     4801 non-null   object \n",
      " 11  SUBLOCALITY                  4801 non-null   object \n",
      " 12  STREET_NAME                  4801 non-null   object \n",
      " 13  LONG_NAME                    4801 non-null   object \n",
      " 14  FORMATTED_ADDRESS            4801 non-null   object \n",
      " 15  LATITUDE                     4801 non-null   float64\n",
      " 16  LONGITUDE                    4801 non-null   float64\n",
      "dtypes: float64(4), int64(2), object(11)\n",
      "memory usage: 637.8+ KB\n"
     ]
    }
   ],
   "source": [
    "import pandas as pd\n",
    "\n",
    "df = pd.read_csv('datasets/NY-House-Dataset.csv')\n",
    "df.info()"
   ]
  },
  {
   "cell_type": "code",
   "execution_count": 24,
   "metadata": {},
   "outputs": [
    {
     "data": {
      "text/plain": [
       "(6, 17)"
      ]
     },
     "execution_count": 24,
     "metadata": {},
     "output_type": "execute_result"
    }
   ],
   "source": [
    "# Respuestas posibles al inciso e\n",
    "len(df[df['LOCALITY'] == 'Brooklyn'])\n",
    "\n",
    "df[df['LOCALITY'] == 'Brooklyn'].shape"
   ]
  },
  {
   "cell_type": "code",
   "execution_count": 23,
   "metadata": {},
   "outputs": [
    {
     "data": {
      "text/plain": [
       "0           Condo-for-sale\n",
       "1           Condo-for-sale\n",
       "2           House-for-sale\n",
       "3           Condo-for-sale\n",
       "4       Townhouse-for-sale\n",
       "               ...        \n",
       "4796        Co-op-for-sale\n",
       "4797        Co-op-for-sale\n",
       "4798        Co-op-for-sale\n",
       "4799        Condo-for-sale\n",
       "4800        Co-op-for-sale\n",
       "Name: TYPE, Length: 4801, dtype: object"
      ]
     },
     "execution_count": 23,
     "metadata": {},
     "output_type": "execute_result"
    }
   ],
   "source": [
    "# Respuestas posibles al inciso f\n",
    "# tanto apply como transform tienen el mismo efecto, solo que transform es mas preciso.\n",
    "\n",
    "df['TYPE'].transform(lambda x: x.replace(' ', '-'))\n",
    "\n",
    "df['TYPE'].apply(lambda x: x.replace(' ', '-'))\n",
    "\n",
    "df['TYPE'].transform(str.replace, args=[' ', '-'])"
   ]
  },
  {
   "cell_type": "code",
   "execution_count": null,
   "metadata": {},
   "outputs": [],
   "source": []
  }
 ],
 "metadata": {
  "kernelspec": {
   "display_name": "base",
   "language": "python",
   "name": "python3"
  },
  "language_info": {
   "codemirror_mode": {
    "name": "ipython",
    "version": 3
   },
   "file_extension": ".py",
   "mimetype": "text/x-python",
   "name": "python",
   "nbconvert_exporter": "python",
   "pygments_lexer": "ipython3",
   "version": "3.11.5"
  }
 },
 "nbformat": 4,
 "nbformat_minor": 2
}
