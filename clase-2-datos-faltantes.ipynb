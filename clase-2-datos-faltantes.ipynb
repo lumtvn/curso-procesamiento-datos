{
 "cells": [
  {
   "cell_type": "markdown",
   "metadata": {},
   "source": [
    "# Tratamiento de valores faltantes\n",
    "\n",
    "Para explorar las distintas opciones a la hora de imputacion de datos vamos a usar el datasets de migrantes, disponible en kaggle: https://www.kaggle.com/datasets/nelgiriyewithana/global-missing-migrants-dataset/code"
   ]
  },
  {
   "cell_type": "code",
   "execution_count": 23,
   "metadata": {},
   "outputs": [
    {
     "name": "stdout",
     "output_type": "stream",
     "text": [
      "<class 'pandas.core.frame.DataFrame'>\n",
      "RangeIndex: 13020 entries, 0 to 13019\n",
      "Data columns (total 19 columns):\n",
      " #   Column                               Non-Null Count  Dtype  \n",
      "---  ------                               --------------  -----  \n",
      " 0   Incident Type                        13020 non-null  object \n",
      " 1   Incident year                        13020 non-null  int64  \n",
      " 2   Reported Month                       13020 non-null  object \n",
      " 3   Region of Origin                     12998 non-null  object \n",
      " 4   Region of Incident                   13020 non-null  object \n",
      " 5   Country of Origin                    13012 non-null  object \n",
      " 6   Number of Dead                       12470 non-null  float64\n",
      " 7   Minimum Estimated Number of Missing  13020 non-null  int64  \n",
      " 8   Total Number of Dead and Missing     13020 non-null  int64  \n",
      " 9   Number of Survivors                  13020 non-null  int64  \n",
      " 10  Number of Females                    13020 non-null  int64  \n",
      " 11  Number of Males                      13020 non-null  int64  \n",
      " 12  Number of Children                   13020 non-null  int64  \n",
      " 13  Cause of Death                       13020 non-null  object \n",
      " 14  Migration route                      9999 non-null   object \n",
      " 15  Location of death                    13020 non-null  object \n",
      " 16  Information Source                   13012 non-null  object \n",
      " 17  Coordinates                          12984 non-null  object \n",
      " 18  UNSD Geographical Grouping           13019 non-null  object \n",
      "dtypes: float64(1), int64(7), object(11)\n",
      "memory usage: 1.9+ MB\n"
     ]
    }
   ],
   "source": [
    "import pandas as pd\n",
    "\n",
    "df = pd.read_csv('datasets/global-missing-migrants-dataset.csv')\n",
    "df.info()"
   ]
  },
  {
   "cell_type": "markdown",
   "metadata": {},
   "source": [
    "Miramos algunos valores para entender la naturaleza del dataset"
   ]
  },
  {
   "cell_type": "code",
   "execution_count": 24,
   "metadata": {},
   "outputs": [
    {
     "data": {
      "text/html": [
       "<div>\n",
       "<style scoped>\n",
       "    .dataframe tbody tr th:only-of-type {\n",
       "        vertical-align: middle;\n",
       "    }\n",
       "\n",
       "    .dataframe tbody tr th {\n",
       "        vertical-align: top;\n",
       "    }\n",
       "\n",
       "    .dataframe thead th {\n",
       "        text-align: right;\n",
       "    }\n",
       "</style>\n",
       "<table border=\"1\" class=\"dataframe\">\n",
       "  <thead>\n",
       "    <tr style=\"text-align: right;\">\n",
       "      <th></th>\n",
       "      <th>Incident Type</th>\n",
       "      <th>Incident year</th>\n",
       "      <th>Reported Month</th>\n",
       "      <th>Region of Origin</th>\n",
       "      <th>Region of Incident</th>\n",
       "      <th>Country of Origin</th>\n",
       "      <th>Number of Dead</th>\n",
       "      <th>Minimum Estimated Number of Missing</th>\n",
       "      <th>Total Number of Dead and Missing</th>\n",
       "      <th>Number of Survivors</th>\n",
       "      <th>Number of Females</th>\n",
       "      <th>Number of Males</th>\n",
       "      <th>Number of Children</th>\n",
       "      <th>Cause of Death</th>\n",
       "      <th>Migration route</th>\n",
       "      <th>Location of death</th>\n",
       "      <th>Information Source</th>\n",
       "      <th>Coordinates</th>\n",
       "      <th>UNSD Geographical Grouping</th>\n",
       "    </tr>\n",
       "  </thead>\n",
       "  <tbody>\n",
       "    <tr>\n",
       "      <th>12206</th>\n",
       "      <td>Incident</td>\n",
       "      <td>2022</td>\n",
       "      <td>December</td>\n",
       "      <td>Northern Africa (P)</td>\n",
       "      <td>Mediterranean</td>\n",
       "      <td>Unknown</td>\n",
       "      <td>NaN</td>\n",
       "      <td>14</td>\n",
       "      <td>14</td>\n",
       "      <td>0</td>\n",
       "      <td>2</td>\n",
       "      <td>0</td>\n",
       "      <td>1</td>\n",
       "      <td>Drowning</td>\n",
       "      <td>Western Mediterranean</td>\n",
       "      <td>Unspecified location in the Balaeric Sea - dep...</td>\n",
       "      <td>Caminando Fronteras, CIPIMD</td>\n",
       "      <td>36.76729267, 3.096717</td>\n",
       "      <td>Uncategorized</td>\n",
       "    </tr>\n",
       "    <tr>\n",
       "      <th>12137</th>\n",
       "      <td>Incident</td>\n",
       "      <td>2022</td>\n",
       "      <td>November</td>\n",
       "      <td>Southern Asia</td>\n",
       "      <td>Southern Asia</td>\n",
       "      <td>Afghanistan</td>\n",
       "      <td>1.0</td>\n",
       "      <td>0</td>\n",
       "      <td>1</td>\n",
       "      <td>0</td>\n",
       "      <td>0</td>\n",
       "      <td>1</td>\n",
       "      <td>0</td>\n",
       "      <td>Vehicle accident / death linked to hazardous t...</td>\n",
       "      <td>NaN</td>\n",
       "      <td>Rubat Safcha village, Obe district, Herat prov...</td>\n",
       "      <td>IOM Afghanistan</td>\n",
       "      <td>34.2728176, 63.1089658</td>\n",
       "      <td>Southern Asia</td>\n",
       "    </tr>\n",
       "    <tr>\n",
       "      <th>9043</th>\n",
       "      <td>Incident</td>\n",
       "      <td>2021</td>\n",
       "      <td>August</td>\n",
       "      <td>Latin America / Caribbean (P)</td>\n",
       "      <td>North America</td>\n",
       "      <td>Unknown</td>\n",
       "      <td>3.0</td>\n",
       "      <td>0</td>\n",
       "      <td>3</td>\n",
       "      <td>8</td>\n",
       "      <td>0</td>\n",
       "      <td>1</td>\n",
       "      <td>0</td>\n",
       "      <td>Vehicle accident / death linked to hazardous t...</td>\n",
       "      <td>US-Mexico border crossing</td>\n",
       "      <td>Approximately 39 miles northwest of Tucson nea...</td>\n",
       "      <td>US Border Patrol</td>\n",
       "      <td>32.64174, -111.38443</td>\n",
       "      <td>Northern America</td>\n",
       "    </tr>\n",
       "    <tr>\n",
       "      <th>26</th>\n",
       "      <td>Incident</td>\n",
       "      <td>2014</td>\n",
       "      <td>February</td>\n",
       "      <td>Latin America / Caribbean (P)</td>\n",
       "      <td>North America</td>\n",
       "      <td>Unknown</td>\n",
       "      <td>1.0</td>\n",
       "      <td>0</td>\n",
       "      <td>1</td>\n",
       "      <td>0</td>\n",
       "      <td>0</td>\n",
       "      <td>0</td>\n",
       "      <td>0</td>\n",
       "      <td>Mixed or unknown</td>\n",
       "      <td>US-Mexico border crossing</td>\n",
       "      <td>Pima Country Office of the Medical Examiner ju...</td>\n",
       "      <td>Pima County Office of the Medical Examiner (PC...</td>\n",
       "      <td>32.08795, -112.58407</td>\n",
       "      <td>Northern America</td>\n",
       "    </tr>\n",
       "    <tr>\n",
       "      <th>11952</th>\n",
       "      <td>Incident</td>\n",
       "      <td>2022</td>\n",
       "      <td>August</td>\n",
       "      <td>Southern Asia</td>\n",
       "      <td>Southern Asia</td>\n",
       "      <td>Afghanistan</td>\n",
       "      <td>1.0</td>\n",
       "      <td>0</td>\n",
       "      <td>1</td>\n",
       "      <td>0</td>\n",
       "      <td>0</td>\n",
       "      <td>1</td>\n",
       "      <td>0</td>\n",
       "      <td>Vehicle accident / death linked to hazardous t...</td>\n",
       "      <td>NaN</td>\n",
       "      <td>Argan village, Kiti district, Daykundi provinc...</td>\n",
       "      <td>IOM Afghanistan</td>\n",
       "      <td>33.4096584, 65.8085049</td>\n",
       "      <td>Southern Asia</td>\n",
       "    </tr>\n",
       "  </tbody>\n",
       "</table>\n",
       "</div>"
      ],
      "text/plain": [
       "      Incident Type  Incident year Reported Month  \\\n",
       "12206      Incident           2022       December   \n",
       "12137      Incident           2022       November   \n",
       "9043       Incident           2021         August   \n",
       "26         Incident           2014       February   \n",
       "11952      Incident           2022         August   \n",
       "\n",
       "                    Region of Origin Region of Incident Country of Origin  \\\n",
       "12206            Northern Africa (P)      Mediterranean           Unknown   \n",
       "12137                  Southern Asia      Southern Asia       Afghanistan   \n",
       "9043   Latin America / Caribbean (P)      North America           Unknown   \n",
       "26     Latin America / Caribbean (P)      North America           Unknown   \n",
       "11952                  Southern Asia      Southern Asia       Afghanistan   \n",
       "\n",
       "       Number of Dead  Minimum Estimated Number of Missing  \\\n",
       "12206             NaN                                   14   \n",
       "12137             1.0                                    0   \n",
       "9043              3.0                                    0   \n",
       "26                1.0                                    0   \n",
       "11952             1.0                                    0   \n",
       "\n",
       "       Total Number of Dead and Missing  Number of Survivors  \\\n",
       "12206                                14                    0   \n",
       "12137                                 1                    0   \n",
       "9043                                  3                    8   \n",
       "26                                    1                    0   \n",
       "11952                                 1                    0   \n",
       "\n",
       "       Number of Females  Number of Males  Number of Children  \\\n",
       "12206                  2                0                   1   \n",
       "12137                  0                1                   0   \n",
       "9043                   0                1                   0   \n",
       "26                     0                0                   0   \n",
       "11952                  0                1                   0   \n",
       "\n",
       "                                          Cause of Death  \\\n",
       "12206                                           Drowning   \n",
       "12137  Vehicle accident / death linked to hazardous t...   \n",
       "9043   Vehicle accident / death linked to hazardous t...   \n",
       "26                                      Mixed or unknown   \n",
       "11952  Vehicle accident / death linked to hazardous t...   \n",
       "\n",
       "                 Migration route  \\\n",
       "12206      Western Mediterranean   \n",
       "12137                        NaN   \n",
       "9043   US-Mexico border crossing   \n",
       "26     US-Mexico border crossing   \n",
       "11952                        NaN   \n",
       "\n",
       "                                       Location of death  \\\n",
       "12206  Unspecified location in the Balaeric Sea - dep...   \n",
       "12137  Rubat Safcha village, Obe district, Herat prov...   \n",
       "9043   Approximately 39 miles northwest of Tucson nea...   \n",
       "26     Pima Country Office of the Medical Examiner ju...   \n",
       "11952  Argan village, Kiti district, Daykundi provinc...   \n",
       "\n",
       "                                      Information Source  \\\n",
       "12206                        Caminando Fronteras, CIPIMD   \n",
       "12137                                    IOM Afghanistan   \n",
       "9043                                    US Border Patrol   \n",
       "26     Pima County Office of the Medical Examiner (PC...   \n",
       "11952                                    IOM Afghanistan   \n",
       "\n",
       "                  Coordinates UNSD Geographical Grouping  \n",
       "12206   36.76729267, 3.096717              Uncategorized  \n",
       "12137  34.2728176, 63.1089658              Southern Asia  \n",
       "9043     32.64174, -111.38443           Northern America  \n",
       "26       32.08795, -112.58407           Northern America  \n",
       "11952  33.4096584, 65.8085049              Southern Asia  "
      ]
     },
     "execution_count": 24,
     "metadata": {},
     "output_type": "execute_result"
    }
   ],
   "source": [
    "df.sample(5)"
   ]
  },
  {
   "cell_type": "markdown",
   "metadata": {},
   "source": [
    "Vemos que hay valores faltantes en algunas columnas, veamos cuantos hay exactamente en cada una"
   ]
  },
  {
   "cell_type": "code",
   "execution_count": 25,
   "metadata": {},
   "outputs": [
    {
     "data": {
      "text/plain": [
       "Incident Type                             0\n",
       "Incident year                             0\n",
       "Reported Month                            0\n",
       "Region of Origin                         22\n",
       "Region of Incident                        0\n",
       "Country of Origin                         8\n",
       "Number of Dead                          550\n",
       "Minimum Estimated Number of Missing       0\n",
       "Total Number of Dead and Missing          0\n",
       "Number of Survivors                       0\n",
       "Number of Females                         0\n",
       "Number of Males                           0\n",
       "Number of Children                        0\n",
       "Cause of Death                            0\n",
       "Migration route                        3021\n",
       "Location of death                         0\n",
       "Information Source                        8\n",
       "Coordinates                              36\n",
       "UNSD Geographical Grouping                1\n",
       "dtype: int64"
      ]
     },
     "execution_count": 25,
     "metadata": {},
     "output_type": "execute_result"
    }
   ],
   "source": [
    "df.isnull().sum()"
   ]
  },
  {
   "cell_type": "markdown",
   "metadata": {},
   "source": [
    "veamos algunos casos. Vamos a usar la funcion `any` junto con `isnull` para recuperar las filas que tengan al menos un atributo en nulo."
   ]
  },
  {
   "cell_type": "code",
   "execution_count": 26,
   "metadata": {},
   "outputs": [
    {
     "data": {
      "text/html": [
       "<div>\n",
       "<style scoped>\n",
       "    .dataframe tbody tr th:only-of-type {\n",
       "        vertical-align: middle;\n",
       "    }\n",
       "\n",
       "    .dataframe tbody tr th {\n",
       "        vertical-align: top;\n",
       "    }\n",
       "\n",
       "    .dataframe thead th {\n",
       "        text-align: right;\n",
       "    }\n",
       "</style>\n",
       "<table border=\"1\" class=\"dataframe\">\n",
       "  <thead>\n",
       "    <tr style=\"text-align: right;\">\n",
       "      <th></th>\n",
       "      <th>Incident Type</th>\n",
       "      <th>Incident year</th>\n",
       "      <th>Reported Month</th>\n",
       "      <th>Region of Origin</th>\n",
       "      <th>Region of Incident</th>\n",
       "      <th>Country of Origin</th>\n",
       "      <th>Number of Dead</th>\n",
       "      <th>Minimum Estimated Number of Missing</th>\n",
       "      <th>Total Number of Dead and Missing</th>\n",
       "      <th>Number of Survivors</th>\n",
       "      <th>Number of Females</th>\n",
       "      <th>Number of Males</th>\n",
       "      <th>Number of Children</th>\n",
       "      <th>Cause of Death</th>\n",
       "      <th>Migration route</th>\n",
       "      <th>Location of death</th>\n",
       "      <th>Information Source</th>\n",
       "      <th>Coordinates</th>\n",
       "      <th>UNSD Geographical Grouping</th>\n",
       "    </tr>\n",
       "  </thead>\n",
       "  <tbody>\n",
       "    <tr>\n",
       "      <th>1733</th>\n",
       "      <td>Incident</td>\n",
       "      <td>2016</td>\n",
       "      <td>June</td>\n",
       "      <td>Unknown</td>\n",
       "      <td>Northern Africa</td>\n",
       "      <td>Unknown</td>\n",
       "      <td>3.0</td>\n",
       "      <td>0</td>\n",
       "      <td>3</td>\n",
       "      <td>0</td>\n",
       "      <td>0</td>\n",
       "      <td>0</td>\n",
       "      <td>0</td>\n",
       "      <td>Violence</td>\n",
       "      <td>NaN</td>\n",
       "      <td>Tripoli, Libya</td>\n",
       "      <td>MHub</td>\n",
       "      <td>32.86414222, 13.1762320988</td>\n",
       "      <td>Northern Africa</td>\n",
       "    </tr>\n",
       "    <tr>\n",
       "      <th>6153</th>\n",
       "      <td>Incident</td>\n",
       "      <td>2019</td>\n",
       "      <td>June</td>\n",
       "      <td>Southern Asia (P)</td>\n",
       "      <td>Southern Asia</td>\n",
       "      <td>Unknown</td>\n",
       "      <td>2.0</td>\n",
       "      <td>0</td>\n",
       "      <td>2</td>\n",
       "      <td>0</td>\n",
       "      <td>0</td>\n",
       "      <td>2</td>\n",
       "      <td>0</td>\n",
       "      <td>Violence</td>\n",
       "      <td>NaN</td>\n",
       "      <td>Kurdistan, Iran</td>\n",
       "      <td>Mixed Migration Monitoring Mechanism Initiativ...</td>\n",
       "      <td>36.048739, 45.809583</td>\n",
       "      <td>Southern Asia</td>\n",
       "    </tr>\n",
       "    <tr>\n",
       "      <th>10650</th>\n",
       "      <td>Incident</td>\n",
       "      <td>2022</td>\n",
       "      <td>April</td>\n",
       "      <td>Sub-Saharan Africa (P)</td>\n",
       "      <td>Mediterranean</td>\n",
       "      <td>Unknown</td>\n",
       "      <td>NaN</td>\n",
       "      <td>12</td>\n",
       "      <td>12</td>\n",
       "      <td>94</td>\n",
       "      <td>0</td>\n",
       "      <td>0</td>\n",
       "      <td>0</td>\n",
       "      <td>Drowning</td>\n",
       "      <td>Central Mediterranean</td>\n",
       "      <td>North of Al-Khums, Libya - location of rescue ...</td>\n",
       "      <td>SOS Méditerranée</td>\n",
       "      <td>33.14699825, 14.021359</td>\n",
       "      <td>Uncategorized</td>\n",
       "    </tr>\n",
       "    <tr>\n",
       "      <th>67</th>\n",
       "      <td>Incident</td>\n",
       "      <td>2014</td>\n",
       "      <td>April</td>\n",
       "      <td>Southern Asia</td>\n",
       "      <td>South-eastern Asia</td>\n",
       "      <td>Cambodia</td>\n",
       "      <td>7.0</td>\n",
       "      <td>0</td>\n",
       "      <td>7</td>\n",
       "      <td>7</td>\n",
       "      <td>2</td>\n",
       "      <td>5</td>\n",
       "      <td>0</td>\n",
       "      <td>Vehicle accident / death linked to hazardous t...</td>\n",
       "      <td>NaN</td>\n",
       "      <td>344 Road, 39-40th km, Nong Sue Chang subdistri...</td>\n",
       "      <td>Naewna,  Post Today, Daily News, Manager Online</td>\n",
       "      <td>13.3493133, 101</td>\n",
       "      <td>South-eastern Asia</td>\n",
       "    </tr>\n",
       "    <tr>\n",
       "      <th>6993</th>\n",
       "      <td>Incident</td>\n",
       "      <td>2019</td>\n",
       "      <td>December</td>\n",
       "      <td>Sub-Saharan Africa (P)</td>\n",
       "      <td>Western Africa</td>\n",
       "      <td>Unknown</td>\n",
       "      <td>2.0</td>\n",
       "      <td>0</td>\n",
       "      <td>2</td>\n",
       "      <td>0</td>\n",
       "      <td>1</td>\n",
       "      <td>1</td>\n",
       "      <td>1</td>\n",
       "      <td>Violence</td>\n",
       "      <td>NaN</td>\n",
       "      <td>Gao, Mali</td>\n",
       "      <td>Mixed Migration Monitoring Mechanism Initiativ...</td>\n",
       "      <td>-0.028555, 16.261959</td>\n",
       "      <td>Western Africa</td>\n",
       "    </tr>\n",
       "  </tbody>\n",
       "</table>\n",
       "</div>"
      ],
      "text/plain": [
       "      Incident Type  Incident year Reported Month        Region of Origin  \\\n",
       "1733       Incident           2016           June                 Unknown   \n",
       "6153       Incident           2019           June       Southern Asia (P)   \n",
       "10650      Incident           2022          April  Sub-Saharan Africa (P)   \n",
       "67         Incident           2014          April           Southern Asia   \n",
       "6993       Incident           2019       December  Sub-Saharan Africa (P)   \n",
       "\n",
       "       Region of Incident Country of Origin  Number of Dead  \\\n",
       "1733      Northern Africa           Unknown             3.0   \n",
       "6153        Southern Asia           Unknown             2.0   \n",
       "10650       Mediterranean           Unknown             NaN   \n",
       "67     South-eastern Asia          Cambodia             7.0   \n",
       "6993       Western Africa           Unknown             2.0   \n",
       "\n",
       "       Minimum Estimated Number of Missing  Total Number of Dead and Missing  \\\n",
       "1733                                     0                                 3   \n",
       "6153                                     0                                 2   \n",
       "10650                                   12                                12   \n",
       "67                                       0                                 7   \n",
       "6993                                     0                                 2   \n",
       "\n",
       "       Number of Survivors  Number of Females  Number of Males  \\\n",
       "1733                     0                  0                0   \n",
       "6153                     0                  0                2   \n",
       "10650                   94                  0                0   \n",
       "67                       7                  2                5   \n",
       "6993                     0                  1                1   \n",
       "\n",
       "       Number of Children                                     Cause of Death  \\\n",
       "1733                    0                                           Violence   \n",
       "6153                    0                                           Violence   \n",
       "10650                   0                                           Drowning   \n",
       "67                      0  Vehicle accident / death linked to hazardous t...   \n",
       "6993                    1                                           Violence   \n",
       "\n",
       "             Migration route  \\\n",
       "1733                     NaN   \n",
       "6153                     NaN   \n",
       "10650  Central Mediterranean   \n",
       "67                       NaN   \n",
       "6993                     NaN   \n",
       "\n",
       "                                       Location of death  \\\n",
       "1733                                      Tripoli, Libya   \n",
       "6153                                     Kurdistan, Iran   \n",
       "10650  North of Al-Khums, Libya - location of rescue ...   \n",
       "67     344 Road, 39-40th km, Nong Sue Chang subdistri...   \n",
       "6993                                           Gao, Mali   \n",
       "\n",
       "                                      Information Source  \\\n",
       "1733                                               MHub    \n",
       "6153   Mixed Migration Monitoring Mechanism Initiativ...   \n",
       "10650                                   SOS Méditerranée   \n",
       "67       Naewna,  Post Today, Daily News, Manager Online   \n",
       "6993   Mixed Migration Monitoring Mechanism Initiativ...   \n",
       "\n",
       "                      Coordinates UNSD Geographical Grouping  \n",
       "1733   32.86414222, 13.1762320988            Northern Africa  \n",
       "6153         36.048739, 45.809583              Southern Asia  \n",
       "10650      33.14699825, 14.021359              Uncategorized  \n",
       "67                13.3493133, 101         South-eastern Asia  \n",
       "6993         -0.028555, 16.261959             Western Africa  "
      ]
     },
     "execution_count": 26,
     "metadata": {},
     "output_type": "execute_result"
    }
   ],
   "source": [
    "df[df.isnull().any(axis=1)].sample(5)"
   ]
  },
  {
   "cell_type": "markdown",
   "metadata": {},
   "source": [
    "Pensando en la naturaleza de los datos, podemos deducir que algunas columnas tienen relacion entre si. En esta relacion puede estar la solucion para la imputacion de datos. Sabemos que hay una relacion entre 'Country of Origin' y 'Region of Origin', que se traducen en pais de origen y region de origen, respectivamente. Conociendo el pais podemos deducir la region a la que pertenece, no asi a la inversa. "
   ]
  },
  {
   "cell_type": "markdown",
   "metadata": {},
   "source": [
    "Veamos cuales son los paises que tienen regiones en nulo para crear el mapeo"
   ]
  },
  {
   "cell_type": "code",
   "execution_count": 27,
   "metadata": {},
   "outputs": [
    {
     "data": {
      "text/plain": [
       "array(['Afghanistan,Iraq,Syrian Arab Republic', 'Sudan', 'Egypt',\n",
       "       'Unknown', 'Nigeria', 'Chad', 'Syrian Arab Republic', 'Mauritania',\n",
       "       'Bangladesh'], dtype=object)"
      ]
     },
     "execution_count": 27,
     "metadata": {},
     "output_type": "execute_result"
    }
   ],
   "source": [
    "df[~df['Country of Origin'].isna() & df['Region of Origin'].isna()]['Country of Origin'].unique()"
   ]
  },
  {
   "cell_type": "markdown",
   "metadata": {},
   "source": [
    "Cuales son las regiones existentes dentro del dataset?"
   ]
  },
  {
   "cell_type": "code",
   "execution_count": 18,
   "metadata": {},
   "outputs": [
    {
     "data": {
      "text/plain": [
       "array(['Central America', 'Latin America / Caribbean (P)',\n",
       "       'Northern Africa', 'Unknown', 'Southern Asia', 'Caribbean',\n",
       "       'South-eastern Asia', 'Eastern Africa', 'Europe', 'South America',\n",
       "       'Western Asia', 'Middle Africa', 'Eastern Asia',\n",
       "       'Sub-Saharan Africa (P)', 'Western Africa', 'Mixed',\n",
       "       'Western / Southern Asia (P)', 'Eastern Africa (P)',\n",
       "       'Western / Southern Asia', 'Eastern Asia (P)',\n",
       "       'Western Africa (P)', 'Sub-Saharan Africa', nan, 'Oceania',\n",
       "       'Central Asia', 'Southern Asia (P)', 'Northern Africa (P)',\n",
       "       'Southern Africa', 'Caribbean (P)', 'Western Asia (P)',\n",
       "       'South America (P)', 'Central America (P)',\n",
       "       'South-eastern Asia (P)', 'Northern America'], dtype=object)"
      ]
     },
     "execution_count": 18,
     "metadata": {},
     "output_type": "execute_result"
    }
   ],
   "source": [
    "df['Region of Origin'].unique()"
   ]
  },
  {
   "cell_type": "markdown",
   "metadata": {},
   "source": [
    "En base a una breve investigacion online, creamos el mapeo"
   ]
  },
  {
   "cell_type": "code",
   "execution_count": 28,
   "metadata": {},
   "outputs": [],
   "source": [
    "# Creamos el mapeo\n",
    "region_mapping = {\n",
    "    'Chad': 'Middle Africa',\n",
    "    'Bangladesh': 'Southern Asia',\n",
    "    'Sudan': 'Northern Africa',\n",
    "    'Egypt': 'Northern Africa',\n",
    "    'Syrian Arab Republic': 'Western Asia',\n",
    "    'Nigeria': 'Western Africa',\n",
    "    'Mauritania': 'Western Africa',\n",
    "    'Iraq': 'Western Asia',\n",
    "    'Iran': 'Southern Asia (P)',\n",
    "    'Afghanistan': 'Central Asia',\n",
    "    'Unknown': 'Unknown'\n",
    "}\n",
    "df['Region of Origin'] = df['Region of Origin'].fillna(df['Country of Origin'].map(region_mapping))"
   ]
  },
  {
   "cell_type": "markdown",
   "metadata": {},
   "source": [
    "Veamos el resultado de la imputacion"
   ]
  },
  {
   "cell_type": "code",
   "execution_count": 29,
   "metadata": {},
   "outputs": [
    {
     "data": {
      "text/plain": [
       "Incident Type                             0\n",
       "Incident year                             0\n",
       "Reported Month                            0\n",
       "Region of Origin                          1\n",
       "Region of Incident                        0\n",
       "Country of Origin                         8\n",
       "Number of Dead                          550\n",
       "Minimum Estimated Number of Missing       0\n",
       "Total Number of Dead and Missing          0\n",
       "Number of Survivors                       0\n",
       "Number of Females                         0\n",
       "Number of Males                           0\n",
       "Number of Children                        0\n",
       "Cause of Death                            0\n",
       "Migration route                        3021\n",
       "Location of death                         0\n",
       "Information Source                        8\n",
       "Coordinates                              36\n",
       "UNSD Geographical Grouping                1\n",
       "dtype: int64"
      ]
     },
     "execution_count": 29,
     "metadata": {},
     "output_type": "execute_result"
    }
   ],
   "source": [
    "df.isna().sum()"
   ]
  },
  {
   "cell_type": "markdown",
   "metadata": {},
   "source": [
    "Todavia queda un caso nulo, veamoslo"
   ]
  },
  {
   "cell_type": "code",
   "execution_count": 31,
   "metadata": {},
   "outputs": [
    {
     "data": {
      "text/html": [
       "<div>\n",
       "<style scoped>\n",
       "    .dataframe tbody tr th:only-of-type {\n",
       "        vertical-align: middle;\n",
       "    }\n",
       "\n",
       "    .dataframe tbody tr th {\n",
       "        vertical-align: top;\n",
       "    }\n",
       "\n",
       "    .dataframe thead th {\n",
       "        text-align: right;\n",
       "    }\n",
       "</style>\n",
       "<table border=\"1\" class=\"dataframe\">\n",
       "  <thead>\n",
       "    <tr style=\"text-align: right;\">\n",
       "      <th></th>\n",
       "      <th>Incident Type</th>\n",
       "      <th>Incident year</th>\n",
       "      <th>Reported Month</th>\n",
       "      <th>Region of Origin</th>\n",
       "      <th>Region of Incident</th>\n",
       "      <th>Country of Origin</th>\n",
       "      <th>Number of Dead</th>\n",
       "      <th>Minimum Estimated Number of Missing</th>\n",
       "      <th>Total Number of Dead and Missing</th>\n",
       "      <th>Number of Survivors</th>\n",
       "      <th>Number of Females</th>\n",
       "      <th>Number of Males</th>\n",
       "      <th>Number of Children</th>\n",
       "      <th>Cause of Death</th>\n",
       "      <th>Migration route</th>\n",
       "      <th>Location of death</th>\n",
       "      <th>Information Source</th>\n",
       "      <th>Coordinates</th>\n",
       "      <th>UNSD Geographical Grouping</th>\n",
       "    </tr>\n",
       "  </thead>\n",
       "  <tbody>\n",
       "    <tr>\n",
       "      <th>1217</th>\n",
       "      <td>Incident</td>\n",
       "      <td>2016</td>\n",
       "      <td>January</td>\n",
       "      <td>NaN</td>\n",
       "      <td>Mediterranean</td>\n",
       "      <td>Afghanistan,Iraq,Syrian Arab Republic</td>\n",
       "      <td>39.0</td>\n",
       "      <td>0</td>\n",
       "      <td>39</td>\n",
       "      <td>75</td>\n",
       "      <td>0</td>\n",
       "      <td>0</td>\n",
       "      <td>5</td>\n",
       "      <td>Drowning</td>\n",
       "      <td>Eastern Mediterranean</td>\n",
       "      <td>between Ayvacik, Canakkale, Türkiye and Lesvos...</td>\n",
       "      <td>Turkish Coast Guard via IOM Athens. AFP and th...</td>\n",
       "      <td>39.2893824, 26.4734281</td>\n",
       "      <td>Uncategorized</td>\n",
       "    </tr>\n",
       "  </tbody>\n",
       "</table>\n",
       "</div>"
      ],
      "text/plain": [
       "     Incident Type  Incident year Reported Month Region of Origin  \\\n",
       "1217      Incident           2016        January              NaN   \n",
       "\n",
       "     Region of Incident                      Country of Origin  \\\n",
       "1217      Mediterranean  Afghanistan,Iraq,Syrian Arab Republic   \n",
       "\n",
       "      Number of Dead  Minimum Estimated Number of Missing  \\\n",
       "1217            39.0                                    0   \n",
       "\n",
       "      Total Number of Dead and Missing  Number of Survivors  \\\n",
       "1217                                39                   75   \n",
       "\n",
       "      Number of Females  Number of Males  Number of Children Cause of Death  \\\n",
       "1217                  0                0                   5       Drowning   \n",
       "\n",
       "            Migration route  \\\n",
       "1217  Eastern Mediterranean   \n",
       "\n",
       "                                      Location of death  \\\n",
       "1217  between Ayvacik, Canakkale, Türkiye and Lesvos...   \n",
       "\n",
       "                                     Information Source  \\\n",
       "1217  Turkish Coast Guard via IOM Athens. AFP and th...   \n",
       "\n",
       "                 Coordinates UNSD Geographical Grouping  \n",
       "1217  39.2893824, 26.4734281              Uncategorized  "
      ]
     },
     "execution_count": 31,
     "metadata": {},
     "output_type": "execute_result"
    }
   ],
   "source": [
    "df[df[['Region of Origin']].isnull().any(axis=1)]"
   ]
  },
  {
   "cell_type": "markdown",
   "metadata": {},
   "source": [
    "Este caso particular es engañoso, porque tiene mas de un pais. Le asignemos el valor 'Mixed' que significaria 'Combinado' en ingles"
   ]
  },
  {
   "cell_type": "code",
   "execution_count": 35,
   "metadata": {},
   "outputs": [],
   "source": [
    "df['Region of Origin'] = df['Region of Origin'].fillna(df['Country of Origin'].map({'Afghanistan,Iraq,Syrian Arab Republic': 'Mixed'}))"
   ]
  },
  {
   "cell_type": "markdown",
   "metadata": {},
   "source": [
    "Chequeamos de vuelta valores nulos"
   ]
  },
  {
   "cell_type": "code",
   "execution_count": 36,
   "metadata": {},
   "outputs": [
    {
     "data": {
      "text/plain": [
       "Incident Type                             0\n",
       "Incident year                             0\n",
       "Reported Month                            0\n",
       "Region of Origin                          0\n",
       "Region of Incident                        0\n",
       "Country of Origin                         0\n",
       "Number of Dead                          550\n",
       "Minimum Estimated Number of Missing       0\n",
       "Total Number of Dead and Missing          0\n",
       "Number of Survivors                       0\n",
       "Number of Females                         0\n",
       "Number of Males                           0\n",
       "Number of Children                        0\n",
       "Cause of Death                            0\n",
       "Migration route                        3021\n",
       "Location of death                         0\n",
       "Information Source                        8\n",
       "Coordinates                              36\n",
       "UNSD Geographical Grouping                1\n",
       "dtype: int64"
      ]
     },
     "execution_count": 36,
     "metadata": {},
     "output_type": "execute_result"
    }
   ],
   "source": [
    "df.isna().sum()"
   ]
  },
  {
   "cell_type": "markdown",
   "metadata": {},
   "source": [
    "Los 8 valores nulos en `Country of Origin` no podemos imputarlos con valores decudidos, por lo que podemos asignarles 'unknown'"
   ]
  },
  {
   "cell_type": "code",
   "execution_count": 37,
   "metadata": {},
   "outputs": [
    {
     "data": {
      "text/plain": [
       "Incident Type                             0\n",
       "Incident year                             0\n",
       "Reported Month                            0\n",
       "Region of Origin                          0\n",
       "Region of Incident                        0\n",
       "Country of Origin                         0\n",
       "Number of Dead                          550\n",
       "Minimum Estimated Number of Missing       0\n",
       "Total Number of Dead and Missing          0\n",
       "Number of Survivors                       0\n",
       "Number of Females                         0\n",
       "Number of Males                           0\n",
       "Number of Children                        0\n",
       "Cause of Death                            0\n",
       "Migration route                        3021\n",
       "Location of death                         0\n",
       "Information Source                        8\n",
       "Coordinates                              36\n",
       "UNSD Geographical Grouping                1\n",
       "dtype: int64"
      ]
     },
     "execution_count": 37,
     "metadata": {},
     "output_type": "execute_result"
    }
   ],
   "source": [
    "df['Country of Origin'].fillna('Unknown', inplace=True)\n",
    "df.isna().sum()"
   ]
  },
  {
   "cell_type": "markdown",
   "metadata": {},
   "source": [
    "Ejercicio propuesto:\n",
    "\n",
    "Inputar 3 columnas mas del dataset, a eleccion. Estudiar la naturaleza de la columna y tomar una decision basada en la exploracion. Antes de imputar con 'unknown', confirmar y validar si es la unica alternativa. "
   ]
  }
 ],
 "metadata": {
  "kernelspec": {
   "display_name": "base",
   "language": "python",
   "name": "python3"
  },
  "language_info": {
   "codemirror_mode": {
    "name": "ipython",
    "version": 3
   },
   "file_extension": ".py",
   "mimetype": "text/x-python",
   "name": "python",
   "nbconvert_exporter": "python",
   "pygments_lexer": "ipython3",
   "version": "3.11.5"
  }
 },
 "nbformat": 4,
 "nbformat_minor": 2
}
