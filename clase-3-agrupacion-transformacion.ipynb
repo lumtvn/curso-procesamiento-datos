{
 "cells": [
  {
   "cell_type": "markdown",
   "metadata": {},
   "source": [
    "# Seleccion, agrupacion y transformacion de dataframes con pandas"
   ]
  },
  {
   "cell_type": "code",
   "execution_count": 2,
   "metadata": {},
   "outputs": [],
   "source": [
    "import pandas as pd\n",
    "import numpy as np\n"
   ]
  },
  {
   "cell_type": "code",
   "execution_count": 11,
   "metadata": {},
   "outputs": [
    {
     "name": "stdout",
     "output_type": "stream",
     "text": [
      "<class 'pandas.core.frame.DataFrame'>\n",
      "RangeIndex: 4801 entries, 0 to 4800\n",
      "Data columns (total 17 columns):\n",
      " #   Column                       Non-Null Count  Dtype  \n",
      "---  ------                       --------------  -----  \n",
      " 0   BROKERTITLE                  4801 non-null   object \n",
      " 1   TYPE                         4801 non-null   object \n",
      " 2   PRICE                        4801 non-null   int64  \n",
      " 3   BEDS                         4801 non-null   int64  \n",
      " 4   BATH                         4801 non-null   float64\n",
      " 5   PROPERTYSQFT                 4801 non-null   float64\n",
      " 6   ADDRESS                      4801 non-null   object \n",
      " 7   STATE                        4801 non-null   object \n",
      " 8   MAIN_ADDRESS                 4801 non-null   object \n",
      " 9   ADMINISTRATIVE_AREA_LEVEL_2  4801 non-null   object \n",
      " 10  LOCALITY                     4801 non-null   object \n",
      " 11  SUBLOCALITY                  4801 non-null   object \n",
      " 12  STREET_NAME                  4801 non-null   object \n",
      " 13  LONG_NAME                    4801 non-null   object \n",
      " 14  FORMATTED_ADDRESS            4801 non-null   object \n",
      " 15  LATITUDE                     4801 non-null   float64\n",
      " 16  LONGITUDE                    4801 non-null   float64\n",
      "dtypes: float64(4), int64(2), object(11)\n",
      "memory usage: 637.8+ KB\n"
     ]
    }
   ],
   "source": [
    "df = pd.read_csv('datasets/NY-House-Dataset.csv')\n",
    "df.info()"
   ]
  },
  {
   "cell_type": "markdown",
   "metadata": {},
   "source": [
    "Supongamos que quiero hacer un analisis de aquellos atributos que describen la propiedad fisica y su relacion con el precio, entonces mi seleccion de columnas podria incluir solamente 'TYPE', 'PRICE', 'BEDS', y 'BATH'. Vamos a renombrarlas y hacer un subset de esas columnas para trabajarlas"
   ]
  },
  {
   "cell_type": "code",
   "execution_count": 12,
   "metadata": {},
   "outputs": [],
   "source": [
    "df.rename({'TYPE': 'tipo', \n",
    "        'PRICE': 'precio', \n",
    "        'BEDS': 'habitaciones', \n",
    "        'BATH': 'banios'}, axis=1, inplace=True)"
   ]
  },
  {
   "cell_type": "code",
   "execution_count": 13,
   "metadata": {},
   "outputs": [
    {
     "data": {
      "text/html": [
       "<div>\n",
       "<style scoped>\n",
       "    .dataframe tbody tr th:only-of-type {\n",
       "        vertical-align: middle;\n",
       "    }\n",
       "\n",
       "    .dataframe tbody tr th {\n",
       "        vertical-align: top;\n",
       "    }\n",
       "\n",
       "    .dataframe thead th {\n",
       "        text-align: right;\n",
       "    }\n",
       "</style>\n",
       "<table border=\"1\" class=\"dataframe\">\n",
       "  <thead>\n",
       "    <tr style=\"text-align: right;\">\n",
       "      <th></th>\n",
       "      <th>tipo</th>\n",
       "      <th>precio</th>\n",
       "      <th>habitaciones</th>\n",
       "      <th>banios</th>\n",
       "    </tr>\n",
       "  </thead>\n",
       "  <tbody>\n",
       "    <tr>\n",
       "      <th>1</th>\n",
       "      <td>Condo for sale</td>\n",
       "      <td>195000000</td>\n",
       "      <td>7</td>\n",
       "      <td>10.000000</td>\n",
       "    </tr>\n",
       "    <tr>\n",
       "      <th>2</th>\n",
       "      <td>House for sale</td>\n",
       "      <td>260000</td>\n",
       "      <td>4</td>\n",
       "      <td>2.000000</td>\n",
       "    </tr>\n",
       "    <tr>\n",
       "      <th>3</th>\n",
       "      <td>Condo for sale</td>\n",
       "      <td>69000</td>\n",
       "      <td>3</td>\n",
       "      <td>1.000000</td>\n",
       "    </tr>\n",
       "    <tr>\n",
       "      <th>4</th>\n",
       "      <td>Townhouse for sale</td>\n",
       "      <td>55000000</td>\n",
       "      <td>7</td>\n",
       "      <td>2.373861</td>\n",
       "    </tr>\n",
       "    <tr>\n",
       "      <th>5</th>\n",
       "      <td>House for sale</td>\n",
       "      <td>690000</td>\n",
       "      <td>5</td>\n",
       "      <td>2.000000</td>\n",
       "    </tr>\n",
       "    <tr>\n",
       "      <th>6</th>\n",
       "      <td>Condo for sale</td>\n",
       "      <td>899500</td>\n",
       "      <td>2</td>\n",
       "      <td>2.000000</td>\n",
       "    </tr>\n",
       "    <tr>\n",
       "      <th>7</th>\n",
       "      <td>House for sale</td>\n",
       "      <td>16800000</td>\n",
       "      <td>8</td>\n",
       "      <td>16.000000</td>\n",
       "    </tr>\n",
       "    <tr>\n",
       "      <th>8</th>\n",
       "      <td>Co-op for sale</td>\n",
       "      <td>265000</td>\n",
       "      <td>1</td>\n",
       "      <td>1.000000</td>\n",
       "    </tr>\n",
       "    <tr>\n",
       "      <th>9</th>\n",
       "      <td>Co-op for sale</td>\n",
       "      <td>440000</td>\n",
       "      <td>2</td>\n",
       "      <td>1.000000</td>\n",
       "    </tr>\n",
       "    <tr>\n",
       "      <th>10</th>\n",
       "      <td>Co-op for sale</td>\n",
       "      <td>375000</td>\n",
       "      <td>2</td>\n",
       "      <td>1.000000</td>\n",
       "    </tr>\n",
       "  </tbody>\n",
       "</table>\n",
       "</div>"
      ],
      "text/plain": [
       "                  tipo     precio  habitaciones     banios\n",
       "1       Condo for sale  195000000             7  10.000000\n",
       "2       House for sale     260000             4   2.000000\n",
       "3       Condo for sale      69000             3   1.000000\n",
       "4   Townhouse for sale   55000000             7   2.373861\n",
       "5       House for sale     690000             5   2.000000\n",
       "6       Condo for sale     899500             2   2.000000\n",
       "7       House for sale   16800000             8  16.000000\n",
       "8       Co-op for sale     265000             1   1.000000\n",
       "9       Co-op for sale     440000             2   1.000000\n",
       "10      Co-op for sale     375000             2   1.000000"
      ]
     },
     "execution_count": 13,
     "metadata": {},
     "output_type": "execute_result"
    }
   ],
   "source": [
    "# uso .loc para seleccionar las primeras 10 filas de las columnas de mi interes\n",
    "\n",
    "df.loc[1:10, ['tipo', 'precio', 'habitaciones', 'banios']]"
   ]
  },
  {
   "cell_type": "code",
   "execution_count": 14,
   "metadata": {},
   "outputs": [
    {
     "data": {
      "text/html": [
       "<div>\n",
       "<style scoped>\n",
       "    .dataframe tbody tr th:only-of-type {\n",
       "        vertical-align: middle;\n",
       "    }\n",
       "\n",
       "    .dataframe tbody tr th {\n",
       "        vertical-align: top;\n",
       "    }\n",
       "\n",
       "    .dataframe thead th {\n",
       "        text-align: right;\n",
       "    }\n",
       "</style>\n",
       "<table border=\"1\" class=\"dataframe\">\n",
       "  <thead>\n",
       "    <tr style=\"text-align: right;\">\n",
       "      <th></th>\n",
       "      <th>BROKERTITLE</th>\n",
       "      <th>tipo</th>\n",
       "      <th>precio</th>\n",
       "      <th>habitaciones</th>\n",
       "      <th>banios</th>\n",
       "      <th>PROPERTYSQFT</th>\n",
       "      <th>ADDRESS</th>\n",
       "      <th>STATE</th>\n",
       "      <th>MAIN_ADDRESS</th>\n",
       "      <th>ADMINISTRATIVE_AREA_LEVEL_2</th>\n",
       "      <th>LOCALITY</th>\n",
       "      <th>SUBLOCALITY</th>\n",
       "      <th>STREET_NAME</th>\n",
       "      <th>LONG_NAME</th>\n",
       "      <th>FORMATTED_ADDRESS</th>\n",
       "      <th>LATITUDE</th>\n",
       "      <th>LONGITUDE</th>\n",
       "    </tr>\n",
       "  </thead>\n",
       "  <tbody>\n",
       "    <tr>\n",
       "      <th>100</th>\n",
       "      <td>Brokered by Brown Harris Stevens</td>\n",
       "      <td>Co-op for sale</td>\n",
       "      <td>280000</td>\n",
       "      <td>1</td>\n",
       "      <td>1.000000</td>\n",
       "      <td>1000.000000</td>\n",
       "      <td>8015 6th Ave Apt A1</td>\n",
       "      <td>Brooklyn, NY 11209</td>\n",
       "      <td>8015 6th Ave Apt A1Brooklyn, NY 11209</td>\n",
       "      <td>New York</td>\n",
       "      <td>Kings County</td>\n",
       "      <td>Brooklyn</td>\n",
       "      <td>Bay Ridge</td>\n",
       "      <td>8015</td>\n",
       "      <td>8015 6th Ave Apt A1, Brooklyn, NY 11209, USA</td>\n",
       "      <td>40.624177</td>\n",
       "      <td>-74.021684</td>\n",
       "    </tr>\n",
       "    <tr>\n",
       "      <th>102</th>\n",
       "      <td>Built by Toll Brothers</td>\n",
       "      <td>For sale</td>\n",
       "      <td>2280000</td>\n",
       "      <td>2</td>\n",
       "      <td>2.000000</td>\n",
       "      <td>1400.000000</td>\n",
       "      <td>The Rockwell # 6E</td>\n",
       "      <td>New York, NY 10025</td>\n",
       "      <td>The Rockwell # 6ENew York, NY 10025</td>\n",
       "      <td>United States</td>\n",
       "      <td>New York</td>\n",
       "      <td>New York County</td>\n",
       "      <td>New York</td>\n",
       "      <td>West 103rd Street</td>\n",
       "      <td>218 W 103rd St, New York, NY 10025, USA</td>\n",
       "      <td>40.798658</td>\n",
       "      <td>-73.967904</td>\n",
       "    </tr>\n",
       "    <tr>\n",
       "      <th>104</th>\n",
       "      <td>Brokered by Charles Rutenberg Realty Inc</td>\n",
       "      <td>Pending</td>\n",
       "      <td>739000</td>\n",
       "      <td>6</td>\n",
       "      <td>4.000000</td>\n",
       "      <td>2184.207862</td>\n",
       "      <td>38 Dare Ct</td>\n",
       "      <td>Brooklyn, NY 11229</td>\n",
       "      <td>38 Dare CtBrooklyn, NY 11229</td>\n",
       "      <td>United States</td>\n",
       "      <td>New York</td>\n",
       "      <td>Kings County</td>\n",
       "      <td>Brooklyn</td>\n",
       "      <td>Dare Court</td>\n",
       "      <td>38 Dare Ct, Brooklyn, NY 11229, USA</td>\n",
       "      <td>40.587799</td>\n",
       "      <td>-73.921619</td>\n",
       "    </tr>\n",
       "    <tr>\n",
       "      <th>106</th>\n",
       "      <td>Brokered by Douglas Elliman - 187 Seventh Ave</td>\n",
       "      <td>House for sale</td>\n",
       "      <td>3950000</td>\n",
       "      <td>5</td>\n",
       "      <td>2.000000</td>\n",
       "      <td>3528.000000</td>\n",
       "      <td>591 4th St</td>\n",
       "      <td>Brooklyn, NY 11215</td>\n",
       "      <td>591 4th StBrooklyn, NY 11215</td>\n",
       "      <td>United States</td>\n",
       "      <td>New York</td>\n",
       "      <td>Kings County</td>\n",
       "      <td>Brooklyn</td>\n",
       "      <td>4th Street</td>\n",
       "      <td>591 4th St, Brooklyn, NY 11215, USA</td>\n",
       "      <td>40.668062</td>\n",
       "      <td>-73.974838</td>\n",
       "    </tr>\n",
       "    <tr>\n",
       "      <th>108</th>\n",
       "      <td>Brokered by Corcoran Chelsea/Flatiron</td>\n",
       "      <td>Pending</td>\n",
       "      <td>299999</td>\n",
       "      <td>3</td>\n",
       "      <td>1.000000</td>\n",
       "      <td>2184.207862</td>\n",
       "      <td>215 W 75th St Apt 4D</td>\n",
       "      <td>New York, NY 10023</td>\n",
       "      <td>215 W 75th St Apt 4DNew York, NY 10023</td>\n",
       "      <td>New York</td>\n",
       "      <td>New York County</td>\n",
       "      <td>New York</td>\n",
       "      <td>Manhattan</td>\n",
       "      <td>215</td>\n",
       "      <td>215 W 75th St #4d, New York, NY 10023, USA</td>\n",
       "      <td>40.781058</td>\n",
       "      <td>-73.980841</td>\n",
       "    </tr>\n",
       "    <tr>\n",
       "      <th>110</th>\n",
       "      <td>NoBroker</td>\n",
       "      <td>Pending</td>\n",
       "      <td>4800000</td>\n",
       "      <td>6</td>\n",
       "      <td>2.373861</td>\n",
       "      <td>3958.000000</td>\n",
       "      <td>1151 83rd St</td>\n",
       "      <td>Brooklyn, NY 11228</td>\n",
       "      <td>1151 83rd StBrooklyn, NY 11228</td>\n",
       "      <td>United States</td>\n",
       "      <td>New York</td>\n",
       "      <td>Kings County</td>\n",
       "      <td>Brooklyn</td>\n",
       "      <td>83rd Street</td>\n",
       "      <td>1151 83rd St, Brooklyn, NY 11228, USA</td>\n",
       "      <td>40.617818</td>\n",
       "      <td>-74.015117</td>\n",
       "    </tr>\n",
       "  </tbody>\n",
       "</table>\n",
       "</div>"
      ],
      "text/plain": [
       "                                       BROKERTITLE            tipo   precio  \\\n",
       "100               Brokered by Brown Harris Stevens  Co-op for sale   280000   \n",
       "102                         Built by Toll Brothers        For sale  2280000   \n",
       "104       Brokered by Charles Rutenberg Realty Inc         Pending   739000   \n",
       "106  Brokered by Douglas Elliman - 187 Seventh Ave  House for sale  3950000   \n",
       "108          Brokered by Corcoran Chelsea/Flatiron         Pending   299999   \n",
       "110                                       NoBroker         Pending  4800000   \n",
       "\n",
       "     habitaciones    banios  PROPERTYSQFT               ADDRESS  \\\n",
       "100             1  1.000000   1000.000000   8015 6th Ave Apt A1   \n",
       "102             2  2.000000   1400.000000     The Rockwell # 6E   \n",
       "104             6  4.000000   2184.207862            38 Dare Ct   \n",
       "106             5  2.000000   3528.000000            591 4th St   \n",
       "108             3  1.000000   2184.207862  215 W 75th St Apt 4D   \n",
       "110             6  2.373861   3958.000000          1151 83rd St   \n",
       "\n",
       "                  STATE                            MAIN_ADDRESS  \\\n",
       "100  Brooklyn, NY 11209   8015 6th Ave Apt A1Brooklyn, NY 11209   \n",
       "102  New York, NY 10025     The Rockwell # 6ENew York, NY 10025   \n",
       "104  Brooklyn, NY 11229            38 Dare CtBrooklyn, NY 11229   \n",
       "106  Brooklyn, NY 11215            591 4th StBrooklyn, NY 11215   \n",
       "108  New York, NY 10023  215 W 75th St Apt 4DNew York, NY 10023   \n",
       "110  Brooklyn, NY 11228          1151 83rd StBrooklyn, NY 11228   \n",
       "\n",
       "    ADMINISTRATIVE_AREA_LEVEL_2         LOCALITY      SUBLOCALITY STREET_NAME  \\\n",
       "100                    New York     Kings County         Brooklyn   Bay Ridge   \n",
       "102               United States         New York  New York County    New York   \n",
       "104               United States         New York     Kings County    Brooklyn   \n",
       "106               United States         New York     Kings County    Brooklyn   \n",
       "108                    New York  New York County         New York   Manhattan   \n",
       "110               United States         New York     Kings County    Brooklyn   \n",
       "\n",
       "             LONG_NAME                             FORMATTED_ADDRESS  \\\n",
       "100               8015  8015 6th Ave Apt A1, Brooklyn, NY 11209, USA   \n",
       "102  West 103rd Street       218 W 103rd St, New York, NY 10025, USA   \n",
       "104         Dare Court           38 Dare Ct, Brooklyn, NY 11229, USA   \n",
       "106         4th Street           591 4th St, Brooklyn, NY 11215, USA   \n",
       "108                215    215 W 75th St #4d, New York, NY 10023, USA   \n",
       "110        83rd Street         1151 83rd St, Brooklyn, NY 11228, USA   \n",
       "\n",
       "      LATITUDE  LONGITUDE  \n",
       "100  40.624177 -74.021684  \n",
       "102  40.798658 -73.967904  \n",
       "104  40.587799 -73.921619  \n",
       "106  40.668062 -73.974838  \n",
       "108  40.781058 -73.980841  \n",
       "110  40.617818 -74.015117  "
      ]
     },
     "execution_count": 14,
     "metadata": {},
     "output_type": "execute_result"
    }
   ],
   "source": [
    "# usamos iloc para seleccionar el rango 100 a 110, de 2 en 2\n",
    "df.loc[100:110:2]"
   ]
  },
  {
   "cell_type": "markdown",
   "metadata": {},
   "source": [
    "## Varias maneras de hacer lo mismo.\n",
    "\n",
    "Pandas, similar a Python, a veces cuenta con varios metodos para obtener el mismo resultado. Es cuestion de elegir segun eficiencia, elegancia, y estilo de programacion. Por lo general uno querria elegir un estilo y usarlo a lo largo de un codigo, como para que un lector externo pueda internalizar el estilo, leer y entender el codigo con mayor facilidad. "
   ]
  },
  {
   "cell_type": "code",
   "execution_count": 15,
   "metadata": {},
   "outputs": [],
   "source": [
    "# redondeamos la cantidad de baños en casos donde no hay un numero entero, y transformamos a numero entero\n",
    "df['banios'] = df['banios'].round(0).astype(int)"
   ]
  },
  {
   "cell_type": "code",
   "execution_count": 16,
   "metadata": {},
   "outputs": [
    {
     "data": {
      "text/plain": [
       "banios_cat\n",
       "2                1973\n",
       "1                1521\n",
       "4 o mas baños     837\n",
       "3                 467\n",
       "0                   3\n",
       "Name: count, dtype: int64"
      ]
     },
     "execution_count": 16,
     "metadata": {},
     "output_type": "execute_result"
    }
   ],
   "source": [
    "# creamos una categoria para baños\n",
    "def crear_categoria_banio(row):\n",
    "    if row['banios'] >= 4:\n",
    "        return '4 o mas baños'\n",
    "    else:\n",
    "        return str(row['banios'])\n",
    "    \n",
    "df['banios_cat'] = df[['banios']].apply(crear_categoria_banio, axis=1)\n",
    "df['banios_cat'].value_counts()"
   ]
  },
  {
   "cell_type": "code",
   "execution_count": 17,
   "metadata": {},
   "outputs": [
    {
     "data": {
      "text/plain": [
       "banios_cat\n",
       "2                1973\n",
       "1                1521\n",
       "4 o mas baños     837\n",
       "3                 467\n",
       "0                   3\n",
       "Name: count, dtype: int64"
      ]
     },
     "execution_count": 17,
     "metadata": {},
     "output_type": "execute_result"
    }
   ],
   "source": [
    "# creamos una categoria para baños usando numpy\n",
    "\n",
    "conditions = [\n",
    "    df['banios'] >= 4,\n",
    "    df['banios'] < 4\n",
    "]\n",
    "\n",
    "choices = ['4 o mas baños', df['banios'].astype(str)]\n",
    "\n",
    "df['banios_cat'] = np.select(conditions, choices)\n",
    "df['banios_cat'].value_counts()"
   ]
  },
  {
   "cell_type": "markdown",
   "metadata": {},
   "source": [
    "### map en pandas\n",
    "\n",
    "map toma el mismo nombre y significado que el metodo map para arrays en python plano. La idea es aplicar la misma funcion a una coleccion de datos, en este caso a una Series de pandas. No se puede aplicar map a un dataframe, en cambio si se puede aplicar la funcion 'apply' a un dataframe (primer ejemplo), siempre que se tenga claro el axis: si queremos aplicar sobre filas o columnas. "
   ]
  },
  {
   "cell_type": "code",
   "execution_count": 18,
   "metadata": {},
   "outputs": [
    {
     "data": {
      "text/plain": [
       "banios_cat\n",
       "2                1973\n",
       "1                1521\n",
       "4 o mas baños     837\n",
       "3                 467\n",
       "0                   3\n",
       "Name: count, dtype: int64"
      ]
     },
     "execution_count": 18,
     "metadata": {},
     "output_type": "execute_result"
    }
   ],
   "source": [
    "# creamos una categoria para baños con map\n",
    "df['banios_cat'] = df['banios'].map(lambda x: '4 o mas baños' if x >= 4 else str(x))\n",
    "df['banios_cat'].value_counts()\n"
   ]
  },
  {
   "cell_type": "code",
   "execution_count": 19,
   "metadata": {},
   "outputs": [
    {
     "data": {
      "text/plain": [
       "banios_cat\n",
       "2                1973\n",
       "1                1521\n",
       "4 o mas baños     837\n",
       "3                 467\n",
       "0                   3\n",
       "Name: count, dtype: int64"
      ]
     },
     "execution_count": 19,
     "metadata": {},
     "output_type": "execute_result"
    }
   ],
   "source": [
    "# tambien se puede usar apply sobre una serie, y funciona igual que map\n",
    "df['banios_cat'] = df['banios'].apply(lambda x: '4 o mas baños' if x >= 4 else str(x))\n",
    "df['banios_cat'].value_counts()"
   ]
  },
  {
   "cell_type": "markdown",
   "metadata": {},
   "source": [
    "value_counts cuenta los valores unicos de una serie y los suma, dando la cantidad de valores por cada categoria. Se puede lograr esto mismo usando el metodo groupby"
   ]
  },
  {
   "cell_type": "code",
   "execution_count": 20,
   "metadata": {},
   "outputs": [
    {
     "data": {
      "text/plain": [
       "banios_cat\n",
       "0                   3\n",
       "1                1521\n",
       "2                1973\n",
       "3                 467\n",
       "4 o mas baños     837\n",
       "dtype: int64"
      ]
     },
     "execution_count": 20,
     "metadata": {},
     "output_type": "execute_result"
    }
   ],
   "source": [
    "df.groupby('banios_cat').size()"
   ]
  },
  {
   "cell_type": "markdown",
   "metadata": {},
   "source": [
    "Usemos la categoria nueva para agrupar las casas y obtener algunas metricas"
   ]
  },
  {
   "cell_type": "code",
   "execution_count": 21,
   "metadata": {},
   "outputs": [
    {
     "data": {
      "text/html": [
       "<div>\n",
       "<style scoped>\n",
       "    .dataframe tbody tr th:only-of-type {\n",
       "        vertical-align: middle;\n",
       "    }\n",
       "\n",
       "    .dataframe tbody tr th {\n",
       "        vertical-align: top;\n",
       "    }\n",
       "\n",
       "    .dataframe thead tr th {\n",
       "        text-align: left;\n",
       "    }\n",
       "\n",
       "    .dataframe thead tr:last-of-type th {\n",
       "        text-align: right;\n",
       "    }\n",
       "</style>\n",
       "<table border=\"1\" class=\"dataframe\">\n",
       "  <thead>\n",
       "    <tr>\n",
       "      <th></th>\n",
       "      <th colspan=\"8\" halign=\"left\">precio</th>\n",
       "    </tr>\n",
       "    <tr>\n",
       "      <th></th>\n",
       "      <th>count</th>\n",
       "      <th>mean</th>\n",
       "      <th>std</th>\n",
       "      <th>min</th>\n",
       "      <th>25%</th>\n",
       "      <th>50%</th>\n",
       "      <th>75%</th>\n",
       "      <th>max</th>\n",
       "    </tr>\n",
       "    <tr>\n",
       "      <th>banios_cat</th>\n",
       "      <th></th>\n",
       "      <th></th>\n",
       "      <th></th>\n",
       "      <th></th>\n",
       "      <th></th>\n",
       "      <th></th>\n",
       "      <th></th>\n",
       "      <th></th>\n",
       "    </tr>\n",
       "  </thead>\n",
       "  <tbody>\n",
       "    <tr>\n",
       "      <th>0</th>\n",
       "      <td>3.0</td>\n",
       "      <td>5.448333e+06</td>\n",
       "      <td>8.267656e+06</td>\n",
       "      <td>675000.0</td>\n",
       "      <td>675000.0</td>\n",
       "      <td>675000.0</td>\n",
       "      <td>7835000.0</td>\n",
       "      <td>1.499500e+07</td>\n",
       "    </tr>\n",
       "    <tr>\n",
       "      <th>1</th>\n",
       "      <td>1521.0</td>\n",
       "      <td>4.762976e+05</td>\n",
       "      <td>3.141427e+05</td>\n",
       "      <td>2494.0</td>\n",
       "      <td>269500.0</td>\n",
       "      <td>389888.0</td>\n",
       "      <td>599000.0</td>\n",
       "      <td>4.200000e+06</td>\n",
       "    </tr>\n",
       "    <tr>\n",
       "      <th>2</th>\n",
       "      <td>1973.0</td>\n",
       "      <td>1.683271e+06</td>\n",
       "      <td>3.627467e+06</td>\n",
       "      <td>5800.0</td>\n",
       "      <td>649000.0</td>\n",
       "      <td>868000.0</td>\n",
       "      <td>1400000.0</td>\n",
       "      <td>6.500000e+07</td>\n",
       "    </tr>\n",
       "    <tr>\n",
       "      <th>3</th>\n",
       "      <td>467.0</td>\n",
       "      <td>1.699884e+06</td>\n",
       "      <td>1.545014e+06</td>\n",
       "      <td>199999.0</td>\n",
       "      <td>862500.0</td>\n",
       "      <td>1150000.0</td>\n",
       "      <td>1849000.0</td>\n",
       "      <td>1.249500e+07</td>\n",
       "    </tr>\n",
       "    <tr>\n",
       "      <th>4 o mas baños</th>\n",
       "      <td>837.0</td>\n",
       "      <td>7.717965e+06</td>\n",
       "      <td>7.467007e+07</td>\n",
       "      <td>300000.0</td>\n",
       "      <td>1295000.0</td>\n",
       "      <td>2200000.0</td>\n",
       "      <td>5500000.0</td>\n",
       "      <td>2.147484e+09</td>\n",
       "    </tr>\n",
       "  </tbody>\n",
       "</table>\n",
       "</div>"
      ],
      "text/plain": [
       "               precio                                                   \\\n",
       "                count          mean           std       min        25%   \n",
       "banios_cat                                                               \n",
       "0                 3.0  5.448333e+06  8.267656e+06  675000.0   675000.0   \n",
       "1              1521.0  4.762976e+05  3.141427e+05    2494.0   269500.0   \n",
       "2              1973.0  1.683271e+06  3.627467e+06    5800.0   649000.0   \n",
       "3               467.0  1.699884e+06  1.545014e+06  199999.0   862500.0   \n",
       "4 o mas baños   837.0  7.717965e+06  7.467007e+07  300000.0  1295000.0   \n",
       "\n",
       "                                                   \n",
       "                     50%        75%           max  \n",
       "banios_cat                                         \n",
       "0               675000.0  7835000.0  1.499500e+07  \n",
       "1               389888.0   599000.0  4.200000e+06  \n",
       "2               868000.0  1400000.0  6.500000e+07  \n",
       "3              1150000.0  1849000.0  1.249500e+07  \n",
       "4 o mas baños  2200000.0  5500000.0  2.147484e+09  "
      ]
     },
     "execution_count": 21,
     "metadata": {},
     "output_type": "execute_result"
    }
   ],
   "source": [
    "# agrupar precio por categoria creada\n",
    "\n",
    "df[['precio', 'banios_cat']].groupby('banios_cat').describe()\n"
   ]
  },
  {
   "cell_type": "code",
   "execution_count": 22,
   "metadata": {},
   "outputs": [
    {
     "data": {
      "text/plain": [
       "tipo\n",
       "Co-op for sale                1450\n",
       "House for sale                1012\n",
       "Condo for sale                 891\n",
       "Multi-family home for sale     727\n",
       "Townhouse for sale             299\n",
       "Pending                        243\n",
       "Contingent                      88\n",
       "Land for sale                   49\n",
       "For sale                        20\n",
       "Foreclosure                     14\n",
       "Condop for sale                  5\n",
       "Coming Soon                      2\n",
       "Mobile house for sale            1\n",
       "Name: count, dtype: int64"
      ]
     },
     "execution_count": 22,
     "metadata": {},
     "output_type": "execute_result"
    }
   ],
   "source": [
    "df['tipo'].value_counts()"
   ]
  },
  {
   "cell_type": "markdown",
   "metadata": {},
   "source": [
    "# Ejercicios propuestos\n",
    "\n",
    "- Obtener la cantidad de habitaciones de la propiedad con el precio mas alto\n",
    "- Obtener el promedio de precios de propiedades segun el tipo\n",
    "- Crear una categoria nueva en base a su criterio que resuma la columna 'tipo' a solo 5 tipos, si quieren pueden traducirlas al español. Luego vuelvan a calcular el promedio sobre esta reduccion. "
   ]
  },
  {
   "cell_type": "markdown",
   "metadata": {},
   "source": []
  },
  {
   "cell_type": "markdown",
   "metadata": {},
   "source": []
  }
 ],
 "metadata": {
  "kernelspec": {
   "display_name": "base",
   "language": "python",
   "name": "python3"
  },
  "language_info": {
   "codemirror_mode": {
    "name": "ipython",
    "version": 3
   },
   "file_extension": ".py",
   "mimetype": "text/x-python",
   "name": "python",
   "nbconvert_exporter": "python",
   "pygments_lexer": "ipython3",
   "version": "3.11.5"
  }
 },
 "nbformat": 4,
 "nbformat_minor": 2
}
