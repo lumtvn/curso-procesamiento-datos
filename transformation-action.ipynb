{
 "cells": [
  {
   "cell_type": "code",
   "execution_count": 1,
   "id": "7f4982eb-c903-4990-9438-8b478def0c5d",
   "metadata": {
    "tags": []
   },
   "outputs": [
    {
     "data": {
      "text/plain": [
       "'D:\\\\apps\\\\spark-3.5.0-bin-hadoop3'"
      ]
     },
     "execution_count": 1,
     "metadata": {},
     "output_type": "execute_result"
    }
   ],
   "source": [
    "import findspark\n",
    "findspark.init()\n",
    "findspark.find()"
   ]
  },
  {
   "cell_type": "code",
   "execution_count": 2,
   "id": "1bc42748-a463-4d25-afc1-88783e6cdf1f",
   "metadata": {
    "tags": []
   },
   "outputs": [],
   "source": [
    "from pyspark.sql import SparkSession\n",
    "\n",
    "spark = SparkSession.builder.appName(\"Perla Negra\") \\\n",
    "                            .master(\"local[*]\") \\\n",
    "                            .config(\"spark.ui.port\", \"4040\") \\\n",
    "                            .getOrCreate()"
   ]
  },
  {
   "cell_type": "code",
   "execution_count": 4,
   "id": "704a7141-ecc8-416a-92b1-4955fedc0661",
   "metadata": {
    "tags": []
   },
   "outputs": [
    {
     "data": {
      "text/plain": [
       "126"
      ]
     },
     "execution_count": 4,
     "metadata": {},
     "output_type": "execute_result"
    }
   ],
   "source": [
    "# Transformation\n",
    "rdd = spark.sparkContext.textFile(\"test.txt\") # leer el archivo y cargarlo en una RDD\n",
    "\n",
    "# Action\n",
    "rdd.count() # contar la cantidad de elementos en la RDD"
   ]
  },
  {
   "cell_type": "markdown",
   "id": "31212f23-60a1-4037-8667-3ec9b175097e",
   "metadata": {},
   "source": [
    "## Transformaciones"
   ]
  },
  {
   "cell_type": "markdown",
   "id": "39540827-fb53-4313-8cdf-178d6d6f62da",
   "metadata": {},
   "source": [
    "Leer un archivo de texto con la funcion textFile devuelve una RDD donde cada elemento es una linea leida en el archivo. "
   ]
  },
  {
   "cell_type": "code",
   "execution_count": 5,
   "id": "e7490f69-c200-401b-aa66-58a0e952a513",
   "metadata": {
    "tags": []
   },
   "outputs": [
    {
     "data": {
      "text/plain": [
       "['Project Gutenberg’s',\n",
       " 'Alice’s Adventures in Wonderland',\n",
       " 'by Lewis Carroll',\n",
       " 'This eBook is for the use',\n",
       " 'of anyone anywhere']"
      ]
     },
     "execution_count": 5,
     "metadata": {},
     "output_type": "execute_result"
    }
   ],
   "source": [
    "rdd.take(5) # Pregunta 1: que pasa si usamos collect aqui en vez de take? que riesgo corremos si el dataset es muy grande?"
   ]
  },
  {
   "cell_type": "markdown",
   "id": "e965cf8c-7948-4e3e-acbf-b4701b43251a",
   "metadata": {},
   "source": [
    "Si quisieramos, por ejemplo, tomar cada palabra de un archivo como un elemento distinto tendriamos que aplicarle la funcion split a cada linea y desagregar eso dentro del RDD para generar una sola gran coleccion de palabras. Para esto podemos usar flatMap() que nos permite pasar una funcion que devuelve un array en lugar de un unico elemento. Ademas de mapear la funcion, flatMap se va a encargar de luego desagregar los arrays resultantes en un unico array que sera nuestra RDD transformada."
   ]
  },
  {
   "cell_type": "code",
   "execution_count": 6,
   "id": "2de7d520-0c42-4d09-a9df-7edc7025a1b0",
   "metadata": {},
   "outputs": [],
   "source": [
    "rdd2 = rdd.flatMap(lambda x: x.split(\" \")) # Pregunta 2: Que pasa si usamos map() aqui en lugar de flatMap()? "
   ]
  },
  {
   "cell_type": "code",
   "execution_count": 7,
   "id": "ff328762-bf8a-4999-bb51-85e22d917d91",
   "metadata": {},
   "outputs": [
    {
     "data": {
      "text/plain": [
       "['Project',\n",
       " 'Gutenberg’s',\n",
       " 'Alice’s',\n",
       " 'Adventures',\n",
       " 'in',\n",
       " 'Wonderland',\n",
       " 'by',\n",
       " 'Lewis',\n",
       " 'Carroll',\n",
       " 'This']"
      ]
     },
     "execution_count": 7,
     "metadata": {},
     "output_type": "execute_result"
    }
   ],
   "source": [
    "rdd2.take(10)"
   ]
  },
  {
   "cell_type": "markdown",
   "id": "54005c9c-faf5-4cdf-9247-26f547d462cb",
   "metadata": {},
   "source": [
    "Ahora si, podemos mapear una funcion a cada elemento de la RDD. En este caso, vamos a crear un contador de palabras"
   ]
  },
  {
   "cell_type": "code",
   "execution_count": 8,
   "id": "d4f3f9ce-69b4-4b4a-be3c-0a1020ce62ab",
   "metadata": {
    "tags": []
   },
   "outputs": [],
   "source": [
    "rdd3 = rdd2.map(lambda x: (x,1)) # que pasa si invertimos (x,1) a (1,x)?"
   ]
  },
  {
   "cell_type": "code",
   "execution_count": 9,
   "id": "2895bffb-c5ee-4ea6-b65a-09bc0143cb80",
   "metadata": {
    "tags": []
   },
   "outputs": [],
   "source": [
    "rdd4 = rdd3.reduceByKey(lambda a,b: a+b) # Pregunta 3:  reduceByKey es una transformacion? o una accion? "
   ]
  },
  {
   "cell_type": "code",
   "execution_count": 10,
   "id": "87153ba7-05da-424b-a306-e6ce54779f7c",
   "metadata": {
    "tags": []
   },
   "outputs": [
    {
     "data": {
      "text/plain": [
       "[('Alice’s', 18), ('by', 18), ('Lewis', 18), ('Carroll', 18), ('eBook', 27)]"
      ]
     },
     "execution_count": 10,
     "metadata": {},
     "output_type": "execute_result"
    }
   ],
   "source": [
    "rdd4.take(5)"
   ]
  },
  {
   "cell_type": "markdown",
   "id": "b864ef4b-f0c6-4aa6-95ff-bc4749654141",
   "metadata": {},
   "source": [
    "reduceByKey aplica la funcion de mapeo sobre la RDD agrupada por clave. Se toma al primer elemento como la clave por la cual se va a agrupar. Por lo que lo que termina pasando es que la funcion acumuladora que se le pasa a reduceByKey se aplica sobre cada agrupacion de las palabras. Entonces cada grupo basicamente suma todos sus '1' dando el total de elementos por grupo. "
   ]
  },
  {
   "cell_type": "code",
   "execution_count": 11,
   "id": "b96cfc85-b131-477a-a82b-3d23e6ee37f4",
   "metadata": {
    "tags": []
   },
   "outputs": [],
   "source": [
    "rdd5 = rdd4.map(lambda x: (x[1],x[0])).sortByKey() # devolvemos una version invertida de cada tupla para poder ordenar por clave. "
   ]
  },
  {
   "cell_type": "code",
   "execution_count": 12,
   "id": "efb5e24f-60f2-4ed6-bb49-b336451240a9",
   "metadata": {
    "tags": []
   },
   "outputs": [],
   "source": [
    "rdd6 = rdd5.map(lambda x: (x[1],x[0])) # volvemos a invertir para recuperar el orden inicial"
   ]
  },
  {
   "cell_type": "code",
   "execution_count": 13,
   "id": "27f4078f-ee72-4da3-bc32-3178148de260",
   "metadata": {
    "tags": []
   },
   "outputs": [
    {
     "data": {
      "text/plain": [
       "[('Project', 9),\n",
       " ('Gutenberg’s', 9),\n",
       " ('Alice’s', 18),\n",
       " ('by', 18),\n",
       " ('Lewis', 18),\n",
       " ('Carroll', 18),\n",
       " ('Adventures', 18),\n",
       " ('in', 18),\n",
       " ('Wonderland', 18),\n",
       " ('eBook', 27),\n",
       " ('for', 27),\n",
       " ('use', 27),\n",
       " ('of', 27),\n",
       " ('anyone', 27),\n",
       " ('at', 27),\n",
       " ('no', 27),\n",
       " ('cost', 27),\n",
       " ('and', 27),\n",
       " ('with', 27),\n",
       " ('This', 27),\n",
       " ('is', 27),\n",
       " ('the', 27),\n",
       " ('anywhere', 27)]"
      ]
     },
     "execution_count": 13,
     "metadata": {},
     "output_type": "execute_result"
    }
   ],
   "source": [
    "rdd6.collect()"
   ]
  },
  {
   "cell_type": "code",
   "execution_count": 14,
   "id": "b7984223-4371-4ddd-82d9-b199d36c4cf2",
   "metadata": {
    "tags": []
   },
   "outputs": [
    {
     "data": {
      "text/plain": [
       "[('Wonderland', 18), ('anyone', 27), ('and', 27), ('anywhere', 27)]"
      ]
     },
     "execution_count": 14,
     "metadata": {},
     "output_type": "execute_result"
    }
   ],
   "source": [
    "filteredRdd = rdd6.filter(lambda x: 'an' in x[0])\n",
    "filteredRdd.collect()"
   ]
  },
  {
   "cell_type": "markdown",
   "id": "ffa73c6e-3de9-440c-be6e-debce15803e3",
   "metadata": {},
   "source": [
    "## Acciones"
   ]
  },
  {
   "cell_type": "code",
   "execution_count": 16,
   "id": "5bce3882-5226-49be-8ff7-6016428de8c7",
   "metadata": {
    "tags": []
   },
   "outputs": [
    {
     "data": {
      "text/plain": [
       "23"
      ]
     },
     "execution_count": 16,
     "metadata": {},
     "output_type": "execute_result"
    }
   ],
   "source": [
    "rdd6.count()"
   ]
  },
  {
   "cell_type": "code",
   "execution_count": 17,
   "id": "a2a898d0-5a18-4dfe-b328-38d707f2b859",
   "metadata": {
    "tags": []
   },
   "outputs": [
    {
     "data": {
      "text/plain": [
       "('Project', 9)"
      ]
     },
     "execution_count": 17,
     "metadata": {},
     "output_type": "execute_result"
    }
   ],
   "source": [
    "rdd6.first()"
   ]
  },
  {
   "cell_type": "code",
   "execution_count": 18,
   "id": "13ba6fd0-6a64-482c-9c1e-72b7c8c9bd79",
   "metadata": {
    "tags": []
   },
   "outputs": [
    {
     "data": {
      "text/plain": [
       "('with', 27)"
      ]
     },
     "execution_count": 18,
     "metadata": {},
     "output_type": "execute_result"
    }
   ],
   "source": [
    "rdd6.max()"
   ]
  },
  {
   "cell_type": "code",
   "execution_count": 30,
   "id": "f59e4624-2ed7-4a37-8c42-70856a79eb6c",
   "metadata": {
    "tags": []
   },
   "outputs": [
    {
     "data": {
      "text/plain": [
       "522"
      ]
     },
     "execution_count": 30,
     "metadata": {},
     "output_type": "execute_result"
    }
   ],
   "source": [
    "rdd6.map(lambda x: x[1]).reduce(lambda a,b: a+b)"
   ]
  },
  {
   "cell_type": "markdown",
   "id": "8589ef41-81eb-4d50-a23d-a8d06c80a2d8",
   "metadata": {},
   "source": [
    "## Respuestas a las preguntas:\n",
    "\n",
    "- Pregunta 1:\n",
    "- Pregunta 2:\n",
    "- Pregunta 3:"
   ]
  },
  {
   "cell_type": "code",
   "execution_count": null,
   "id": "cbf62369-8ab7-40ee-b48a-3aca8584baaf",
   "metadata": {
    "tags": []
   },
   "outputs": [],
   "source": [
    "## Problema 1: escribir un filtro para la RDD que recupere las palabras con mas de 10 ocurrencias y mostrarlo\n",
    "\n",
    "# solucion:\n",
    "\n",
    "\n"
   ]
  }
 ],
 "metadata": {
  "kernelspec": {
   "display_name": "Python 3 (ipykernel)",
   "language": "python",
   "name": "python3"
  },
  "language_info": {
   "codemirror_mode": {
    "name": "ipython",
    "version": 3
   },
   "file_extension": ".py",
   "mimetype": "text/x-python",
   "name": "python",
   "nbconvert_exporter": "python",
   "pygments_lexer": "ipython3",
   "version": "3.11.5"
  }
 },
 "nbformat": 4,
 "nbformat_minor": 5
}
